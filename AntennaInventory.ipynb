{
 "metadata": {
  "language_info": {
   "codemirror_mode": {
    "name": "ipython",
    "version": 3
   },
   "file_extension": ".py",
   "mimetype": "text/x-python",
   "name": "python",
   "nbconvert_exporter": "python",
   "pygments_lexer": "ipython3",
   "version": "3.8.5-final"
  },
  "orig_nbformat": 2,
  "kernelspec": {
   "name": "python3",
   "display_name": "Python 3",
   "language": "python"
  }
 },
 "nbformat": 4,
 "nbformat_minor": 2,
 "cells": [
  {
   "cell_type": "code",
   "execution_count": 504,
   "metadata": {},
   "outputs": [],
   "source": [
    "site_id =\"CNU0871\"\n",
    "address = '1515 19th Avenue, San Francisco, California 94122'"
   ]
  },
  {
   "cell_type": "code",
   "execution_count": 505,
   "metadata": {},
   "outputs": [],
   "source": [
    "from io import StringIO\n",
    "from docx.shared import Cm\n",
    "from docxtpl import DocxTemplate, InlineImage\n",
    "import pandas as pd\n",
    "from math import log10\n",
    "import requests"
   ]
  },
  {
   "cell_type": "code",
   "execution_count": 506,
   "metadata": {},
   "outputs": [],
   "source": [
    "def qb_dataframe(table_id):\n",
    "    url = \"https://api.quickbase.com/v1/fields?tableId=\" + table_id\n",
    "    payload = {}\n",
    "    headers = {\n",
    "      'QB-Realm-Hostname': 'soteriarf',\n",
    "      'Authorization': 'QB-USER-TOKEN b4pp4v_paqb_eyxwg9bec3v8pb63hjwjb9t36ii',\n",
    "      'Content': 'application.json'\n",
    "    }\n",
    "    response = requests.request(\"GET\", url, headers=headers, data = payload)\n",
    "    df = pd.json_normalize(response.json())\n",
    "    df = df.sort_values('id').reset_index(drop=True)\n",
    "    df = df[df['fieldType'] != 'user']\n",
    "    df = df[df['fieldType'] != 'file']\n",
    "    label_list = list(df['label'])\n",
    "    id_list = list(df['id'])\n",
    "    body = {\"from\": table_id, \"select\": id_list, \"options\": {\"skip\": 0, \"top\": 10000}}\n",
    "    r = requests.post('https://api.quickbase.com/v1/records/query', headers = headers, json = body)\n",
    "    df = pd.json_normalize(r.json()['data'])\n",
    "    df.columns = df.columns.str.replace(\".value\", \"\")\n",
    "    id_list = [str(i) for i in id_list] \n",
    "    for col in df.columns:\n",
    "        df.rename(columns={col:label_list[id_list.index((col))]}, inplace=True)\n",
    "    return df"
   ]
  },
  {
   "cell_type": "code",
   "execution_count": 507,
   "metadata": {},
   "outputs": [],
   "source": [
    "def W2dBm(W):\n",
    "    return 10*log10(W*1000)\n",
    "def dBm2W(dBm):\n",
    "    return 10**((dBm)/10) / 1000"
   ]
  },
  {
   "cell_type": "code",
   "execution_count": 508,
   "metadata": {},
   "outputs": [
    {
     "output_type": "execute_result",
     "data": {
      "text/plain": [
       "            Date Created  Input Power (W)         Date Modified  \\\n",
       "36  2020-12-17T03:47:53Z            35.51  2020-12-17T03:47:53Z   \n",
       "37  2020-12-17T03:47:53Z           142.91  2020-12-17T03:47:53Z   \n",
       "38  2020-12-17T03:47:53Z           141.93  2020-12-17T03:47:53Z   \n",
       "39  2020-12-17T03:47:53Z           141.95  2020-12-17T03:47:53Z   \n",
       "40  2020-12-17T03:47:53Z            89.11  2020-12-17T03:47:53Z   \n",
       "\n",
       "        Pattern Code  Pattern Code - Aperture (Feet)  \\\n",
       "36   NNHH-65A-R4_700                             4.6   \n",
       "37   NNHH-65A-R4_850                             4.6   \n",
       "38  NNHH-65A-R4_2100                             4.6   \n",
       "39   NNHH-65A-R4_700                             4.6   \n",
       "40  NNHH-65A-R4_2300                             4.6   \n",
       "\n",
       "    Pattern Code - Gain (dBd)  Pattern Code - Horizontal BW  \\\n",
       "36                      11.25                          71.0   \n",
       "37                      11.75                          66.0   \n",
       "38                      15.65                          66.0   \n",
       "39                      11.25                          71.0   \n",
       "40                      15.95                          66.0   \n",
       "\n",
       "    Pattern Code - Vertical BW  Record ID# Pattern Code - Manufacturer  ...  \\\n",
       "36                        16.6         372                   Commscope  ...   \n",
       "37                        14.7         373                   Commscope  ...   \n",
       "38                         6.5         374                   Commscope  ...   \n",
       "39                        16.6         375                   Commscope  ...   \n",
       "40                         5.9         376                   Commscope  ...   \n",
       "\n",
       "    Antenna Location - y_roofview Antenna Location - SITE_ID - Rooftop AGL  \\\n",
       "36                     109.814132                                     58.5   \n",
       "37                     109.814132                                     58.5   \n",
       "38                     109.814132                                     58.5   \n",
       "39                     109.876347                                     58.5   \n",
       "40                     109.876347                                     58.5   \n",
       "\n",
       "   Antenna Location - SITE_ID - Roofview AGL Antenna Location - ANTENNA_ID  \\\n",
       "36                                      58.5               CNU0871_ATT_A_1   \n",
       "37                                      58.5               CNU0871_ATT_A_1   \n",
       "38                                      58.5               CNU0871_ATT_A_1   \n",
       "39                                      58.5               CNU0871_ATT_A_2   \n",
       "40                                      58.5               CNU0871_ATT_A_2   \n",
       "\n",
       "   Antenna Location - SECTOR  Loss (dB)  Antenna Location - RAD_CENTER_FT  \\\n",
       "36                         A        0.0                                60   \n",
       "37                         A        0.0                                60   \n",
       "38                         A        0.0                                60   \n",
       "39                         A        0.0                                60   \n",
       "40                         A        0.0                                60   \n",
       "\n",
       "    Technology  Port  Frequency MHz  \n",
       "36         LTE   P01            700  \n",
       "37         LTE   P02            850  \n",
       "38         LTE   P03           2100  \n",
       "39         LTE   P01            700  \n",
       "40         LTE   P02           2300  \n",
       "\n",
       "[5 rows x 28 columns]"
      ],
      "text/html": "<div>\n<style scoped>\n    .dataframe tbody tr th:only-of-type {\n        vertical-align: middle;\n    }\n\n    .dataframe tbody tr th {\n        vertical-align: top;\n    }\n\n    .dataframe thead th {\n        text-align: right;\n    }\n</style>\n<table border=\"1\" class=\"dataframe\">\n  <thead>\n    <tr style=\"text-align: right;\">\n      <th></th>\n      <th>Date Created</th>\n      <th>Input Power (W)</th>\n      <th>Date Modified</th>\n      <th>Pattern Code</th>\n      <th>Pattern Code - Aperture (Feet)</th>\n      <th>Pattern Code - Gain (dBd)</th>\n      <th>Pattern Code - Horizontal BW</th>\n      <th>Pattern Code - Vertical BW</th>\n      <th>Record ID#</th>\n      <th>Pattern Code - Manufacturer</th>\n      <th>...</th>\n      <th>Antenna Location - y_roofview</th>\n      <th>Antenna Location - SITE_ID - Rooftop AGL</th>\n      <th>Antenna Location - SITE_ID - Roofview AGL</th>\n      <th>Antenna Location - ANTENNA_ID</th>\n      <th>Antenna Location - SECTOR</th>\n      <th>Loss (dB)</th>\n      <th>Antenna Location - RAD_CENTER_FT</th>\n      <th>Technology</th>\n      <th>Port</th>\n      <th>Frequency MHz</th>\n    </tr>\n  </thead>\n  <tbody>\n    <tr>\n      <th>36</th>\n      <td>2020-12-17T03:47:53Z</td>\n      <td>35.51</td>\n      <td>2020-12-17T03:47:53Z</td>\n      <td>NNHH-65A-R4_700</td>\n      <td>4.6</td>\n      <td>11.25</td>\n      <td>71.0</td>\n      <td>16.6</td>\n      <td>372</td>\n      <td>Commscope</td>\n      <td>...</td>\n      <td>109.814132</td>\n      <td>58.5</td>\n      <td>58.5</td>\n      <td>CNU0871_ATT_A_1</td>\n      <td>A</td>\n      <td>0.0</td>\n      <td>60</td>\n      <td>LTE</td>\n      <td>P01</td>\n      <td>700</td>\n    </tr>\n    <tr>\n      <th>37</th>\n      <td>2020-12-17T03:47:53Z</td>\n      <td>142.91</td>\n      <td>2020-12-17T03:47:53Z</td>\n      <td>NNHH-65A-R4_850</td>\n      <td>4.6</td>\n      <td>11.75</td>\n      <td>66.0</td>\n      <td>14.7</td>\n      <td>373</td>\n      <td>Commscope</td>\n      <td>...</td>\n      <td>109.814132</td>\n      <td>58.5</td>\n      <td>58.5</td>\n      <td>CNU0871_ATT_A_1</td>\n      <td>A</td>\n      <td>0.0</td>\n      <td>60</td>\n      <td>LTE</td>\n      <td>P02</td>\n      <td>850</td>\n    </tr>\n    <tr>\n      <th>38</th>\n      <td>2020-12-17T03:47:53Z</td>\n      <td>141.93</td>\n      <td>2020-12-17T03:47:53Z</td>\n      <td>NNHH-65A-R4_2100</td>\n      <td>4.6</td>\n      <td>15.65</td>\n      <td>66.0</td>\n      <td>6.5</td>\n      <td>374</td>\n      <td>Commscope</td>\n      <td>...</td>\n      <td>109.814132</td>\n      <td>58.5</td>\n      <td>58.5</td>\n      <td>CNU0871_ATT_A_1</td>\n      <td>A</td>\n      <td>0.0</td>\n      <td>60</td>\n      <td>LTE</td>\n      <td>P03</td>\n      <td>2100</td>\n    </tr>\n    <tr>\n      <th>39</th>\n      <td>2020-12-17T03:47:53Z</td>\n      <td>141.95</td>\n      <td>2020-12-17T03:47:53Z</td>\n      <td>NNHH-65A-R4_700</td>\n      <td>4.6</td>\n      <td>11.25</td>\n      <td>71.0</td>\n      <td>16.6</td>\n      <td>375</td>\n      <td>Commscope</td>\n      <td>...</td>\n      <td>109.876347</td>\n      <td>58.5</td>\n      <td>58.5</td>\n      <td>CNU0871_ATT_A_2</td>\n      <td>A</td>\n      <td>0.0</td>\n      <td>60</td>\n      <td>LTE</td>\n      <td>P01</td>\n      <td>700</td>\n    </tr>\n    <tr>\n      <th>40</th>\n      <td>2020-12-17T03:47:53Z</td>\n      <td>89.11</td>\n      <td>2020-12-17T03:47:53Z</td>\n      <td>NNHH-65A-R4_2300</td>\n      <td>4.6</td>\n      <td>15.95</td>\n      <td>66.0</td>\n      <td>5.9</td>\n      <td>376</td>\n      <td>Commscope</td>\n      <td>...</td>\n      <td>109.876347</td>\n      <td>58.5</td>\n      <td>58.5</td>\n      <td>CNU0871_ATT_A_2</td>\n      <td>A</td>\n      <td>0.0</td>\n      <td>60</td>\n      <td>LTE</td>\n      <td>P02</td>\n      <td>2300</td>\n    </tr>\n  </tbody>\n</table>\n<p>5 rows × 28 columns</p>\n</div>"
     },
     "metadata": {},
     "execution_count": 508
    }
   ],
   "source": [
    "# Load Transmitters Table, query on site_id\n",
    "df = qb_dataframe('bqzaae4x9')\n",
    "df = df[df['Antenna Location - SITE_ID'] == site_id]\n",
    "df.head()"
   ]
  },
  {
   "cell_type": "code",
   "execution_count": 509,
   "metadata": {},
   "outputs": [
    {
     "output_type": "execute_result",
     "data": {
      "text/plain": [
       "            Date Created   power         Date Modified      Pattern Code  \\\n",
       "36  2020-12-17T03:47:53Z   35.51  2020-12-17T03:47:53Z   NNHH-65A-R4_700   \n",
       "37  2020-12-17T03:47:53Z  142.91  2020-12-17T03:47:53Z   NNHH-65A-R4_850   \n",
       "38  2020-12-17T03:47:53Z  141.93  2020-12-17T03:47:53Z  NNHH-65A-R4_2100   \n",
       "39  2020-12-17T03:47:53Z  141.95  2020-12-17T03:47:53Z   NNHH-65A-R4_700   \n",
       "40  2020-12-17T03:47:53Z   89.11  2020-12-17T03:47:53Z  NNHH-65A-R4_2300   \n",
       "\n",
       "    Pattern Code - Aperture (Feet)   gain  Pattern Code - Horizontal BW  \\\n",
       "36                             4.6  11.25                          71.0   \n",
       "37                             4.6  11.75                          66.0   \n",
       "38                             4.6  15.65                          66.0   \n",
       "39                             4.6  11.25                          71.0   \n",
       "40                             4.6  15.95                          66.0   \n",
       "\n",
       "    Pattern Code - Vertical BW  Record ID# manufacturer  ...  \\\n",
       "36                        16.6         372    Commscope  ...   \n",
       "37                        14.7         373    Commscope  ...   \n",
       "38                         6.5         374    Commscope  ...   \n",
       "39                        16.6         375    Commscope  ...   \n",
       "40                         5.9         376    Commscope  ...   \n",
       "\n",
       "    Antenna Location - y_roofview Antenna Location - SITE_ID - Rooftop AGL  \\\n",
       "36                     109.814132                                     58.5   \n",
       "37                     109.814132                                     58.5   \n",
       "38                     109.814132                                     58.5   \n",
       "39                     109.876347                                     58.5   \n",
       "40                     109.876347                                     58.5   \n",
       "\n",
       "   Antenna Location - SITE_ID - Roofview AGL Antenna Location - ANTENNA_ID  \\\n",
       "36                                      58.5               CNU0871_ATT_A_1   \n",
       "37                                      58.5               CNU0871_ATT_A_1   \n",
       "38                                      58.5               CNU0871_ATT_A_1   \n",
       "39                                      58.5               CNU0871_ATT_A_2   \n",
       "40                                      58.5               CNU0871_ATT_A_2   \n",
       "\n",
       "   sector  Loss (dB)  agl  technology  port  freq  \n",
       "36      A        0.0   60         LTE   P01   700  \n",
       "37      A        0.0   60         LTE   P02   850  \n",
       "38      A        0.0   60         LTE   P03  2100  \n",
       "39      A        0.0   60         LTE   P01   700  \n",
       "40      A        0.0   60         LTE   P02  2300  \n",
       "\n",
       "[5 rows x 28 columns]"
      ],
      "text/html": "<div>\n<style scoped>\n    .dataframe tbody tr th:only-of-type {\n        vertical-align: middle;\n    }\n\n    .dataframe tbody tr th {\n        vertical-align: top;\n    }\n\n    .dataframe thead th {\n        text-align: right;\n    }\n</style>\n<table border=\"1\" class=\"dataframe\">\n  <thead>\n    <tr style=\"text-align: right;\">\n      <th></th>\n      <th>Date Created</th>\n      <th>power</th>\n      <th>Date Modified</th>\n      <th>Pattern Code</th>\n      <th>Pattern Code - Aperture (Feet)</th>\n      <th>gain</th>\n      <th>Pattern Code - Horizontal BW</th>\n      <th>Pattern Code - Vertical BW</th>\n      <th>Record ID#</th>\n      <th>manufacturer</th>\n      <th>...</th>\n      <th>Antenna Location - y_roofview</th>\n      <th>Antenna Location - SITE_ID - Rooftop AGL</th>\n      <th>Antenna Location - SITE_ID - Roofview AGL</th>\n      <th>Antenna Location - ANTENNA_ID</th>\n      <th>sector</th>\n      <th>Loss (dB)</th>\n      <th>agl</th>\n      <th>technology</th>\n      <th>port</th>\n      <th>freq</th>\n    </tr>\n  </thead>\n  <tbody>\n    <tr>\n      <th>36</th>\n      <td>2020-12-17T03:47:53Z</td>\n      <td>35.51</td>\n      <td>2020-12-17T03:47:53Z</td>\n      <td>NNHH-65A-R4_700</td>\n      <td>4.6</td>\n      <td>11.25</td>\n      <td>71.0</td>\n      <td>16.6</td>\n      <td>372</td>\n      <td>Commscope</td>\n      <td>...</td>\n      <td>109.814132</td>\n      <td>58.5</td>\n      <td>58.5</td>\n      <td>CNU0871_ATT_A_1</td>\n      <td>A</td>\n      <td>0.0</td>\n      <td>60</td>\n      <td>LTE</td>\n      <td>P01</td>\n      <td>700</td>\n    </tr>\n    <tr>\n      <th>37</th>\n      <td>2020-12-17T03:47:53Z</td>\n      <td>142.91</td>\n      <td>2020-12-17T03:47:53Z</td>\n      <td>NNHH-65A-R4_850</td>\n      <td>4.6</td>\n      <td>11.75</td>\n      <td>66.0</td>\n      <td>14.7</td>\n      <td>373</td>\n      <td>Commscope</td>\n      <td>...</td>\n      <td>109.814132</td>\n      <td>58.5</td>\n      <td>58.5</td>\n      <td>CNU0871_ATT_A_1</td>\n      <td>A</td>\n      <td>0.0</td>\n      <td>60</td>\n      <td>LTE</td>\n      <td>P02</td>\n      <td>850</td>\n    </tr>\n    <tr>\n      <th>38</th>\n      <td>2020-12-17T03:47:53Z</td>\n      <td>141.93</td>\n      <td>2020-12-17T03:47:53Z</td>\n      <td>NNHH-65A-R4_2100</td>\n      <td>4.6</td>\n      <td>15.65</td>\n      <td>66.0</td>\n      <td>6.5</td>\n      <td>374</td>\n      <td>Commscope</td>\n      <td>...</td>\n      <td>109.814132</td>\n      <td>58.5</td>\n      <td>58.5</td>\n      <td>CNU0871_ATT_A_1</td>\n      <td>A</td>\n      <td>0.0</td>\n      <td>60</td>\n      <td>LTE</td>\n      <td>P03</td>\n      <td>2100</td>\n    </tr>\n    <tr>\n      <th>39</th>\n      <td>2020-12-17T03:47:53Z</td>\n      <td>141.95</td>\n      <td>2020-12-17T03:47:53Z</td>\n      <td>NNHH-65A-R4_700</td>\n      <td>4.6</td>\n      <td>11.25</td>\n      <td>71.0</td>\n      <td>16.6</td>\n      <td>375</td>\n      <td>Commscope</td>\n      <td>...</td>\n      <td>109.876347</td>\n      <td>58.5</td>\n      <td>58.5</td>\n      <td>CNU0871_ATT_A_2</td>\n      <td>A</td>\n      <td>0.0</td>\n      <td>60</td>\n      <td>LTE</td>\n      <td>P01</td>\n      <td>700</td>\n    </tr>\n    <tr>\n      <th>40</th>\n      <td>2020-12-17T03:47:53Z</td>\n      <td>89.11</td>\n      <td>2020-12-17T03:47:53Z</td>\n      <td>NNHH-65A-R4_2300</td>\n      <td>4.6</td>\n      <td>15.95</td>\n      <td>66.0</td>\n      <td>5.9</td>\n      <td>376</td>\n      <td>Commscope</td>\n      <td>...</td>\n      <td>109.876347</td>\n      <td>58.5</td>\n      <td>58.5</td>\n      <td>CNU0871_ATT_A_2</td>\n      <td>A</td>\n      <td>0.0</td>\n      <td>60</td>\n      <td>LTE</td>\n      <td>P02</td>\n      <td>2300</td>\n    </tr>\n  </tbody>\n</table>\n<p>5 rows × 28 columns</p>\n</div>"
     },
     "metadata": {},
     "execution_count": 509
    }
   ],
   "source": [
    "df = df.rename(columns={\n",
    "    'Related Antenna Location': 'antenna_id',\n",
    "    'Antenna Location - SECTOR': 'sector',\n",
    "    'Port': 'port',\n",
    "    'Technology': 'technology',\n",
    "    'Frequency MHz': 'freq',\n",
    "    'Pattern Code - Manufacturer': 'manufacturer',\n",
    "    'Antenna Location - ANTENNA_MODEL': 'model',\n",
    "    'Antenna Location - AZIMUTH': 'azimuth',\n",
    "    'Antenna Location - RAD_CENTER_FT': 'agl',\n",
    "    'Input Power (W)': 'power',\n",
    "    'Pattern Code - Gain (dBd)': 'gain'\n",
    "    })\n",
    "df.head()"
   ]
  },
  {
   "cell_type": "code",
   "execution_count": 510,
   "metadata": {},
   "outputs": [
    {
     "output_type": "execute_result",
     "data": {
      "text/plain": [
       "         antenna_id sector port technology  freq manufacturer        model  \\\n",
       "36  CNU0871_ATT_A_1      A  P01        LTE   700    Commscope  NNHH-65A-R4   \n",
       "37  CNU0871_ATT_A_1      A  P02        LTE   850    Commscope  NNHH-65A-R4   \n",
       "38  CNU0871_ATT_A_1      A  P03        LTE  2100    Commscope  NNHH-65A-R4   \n",
       "39  CNU0871_ATT_A_2      A  P01        LTE   700    Commscope  NNHH-65A-R4   \n",
       "40  CNU0871_ATT_A_2      A  P02        LTE  2300    Commscope  NNHH-65A-R4   \n",
       "\n",
       "    azimuth agl   power   gain  \n",
       "36     20.0  60   35.51  11.25  \n",
       "37     20.0  60  142.91  11.75  \n",
       "38     20.0  60  141.93  15.65  \n",
       "39     20.0  60  141.95  11.25  \n",
       "40     20.0  60   89.11  15.95  "
      ],
      "text/html": "<div>\n<style scoped>\n    .dataframe tbody tr th:only-of-type {\n        vertical-align: middle;\n    }\n\n    .dataframe tbody tr th {\n        vertical-align: top;\n    }\n\n    .dataframe thead th {\n        text-align: right;\n    }\n</style>\n<table border=\"1\" class=\"dataframe\">\n  <thead>\n    <tr style=\"text-align: right;\">\n      <th></th>\n      <th>antenna_id</th>\n      <th>sector</th>\n      <th>port</th>\n      <th>technology</th>\n      <th>freq</th>\n      <th>manufacturer</th>\n      <th>model</th>\n      <th>azimuth</th>\n      <th>agl</th>\n      <th>power</th>\n      <th>gain</th>\n    </tr>\n  </thead>\n  <tbody>\n    <tr>\n      <th>36</th>\n      <td>CNU0871_ATT_A_1</td>\n      <td>A</td>\n      <td>P01</td>\n      <td>LTE</td>\n      <td>700</td>\n      <td>Commscope</td>\n      <td>NNHH-65A-R4</td>\n      <td>20.0</td>\n      <td>60</td>\n      <td>35.51</td>\n      <td>11.25</td>\n    </tr>\n    <tr>\n      <th>37</th>\n      <td>CNU0871_ATT_A_1</td>\n      <td>A</td>\n      <td>P02</td>\n      <td>LTE</td>\n      <td>850</td>\n      <td>Commscope</td>\n      <td>NNHH-65A-R4</td>\n      <td>20.0</td>\n      <td>60</td>\n      <td>142.91</td>\n      <td>11.75</td>\n    </tr>\n    <tr>\n      <th>38</th>\n      <td>CNU0871_ATT_A_1</td>\n      <td>A</td>\n      <td>P03</td>\n      <td>LTE</td>\n      <td>2100</td>\n      <td>Commscope</td>\n      <td>NNHH-65A-R4</td>\n      <td>20.0</td>\n      <td>60</td>\n      <td>141.93</td>\n      <td>15.65</td>\n    </tr>\n    <tr>\n      <th>39</th>\n      <td>CNU0871_ATT_A_2</td>\n      <td>A</td>\n      <td>P01</td>\n      <td>LTE</td>\n      <td>700</td>\n      <td>Commscope</td>\n      <td>NNHH-65A-R4</td>\n      <td>20.0</td>\n      <td>60</td>\n      <td>141.95</td>\n      <td>11.25</td>\n    </tr>\n    <tr>\n      <th>40</th>\n      <td>CNU0871_ATT_A_2</td>\n      <td>A</td>\n      <td>P02</td>\n      <td>LTE</td>\n      <td>2300</td>\n      <td>Commscope</td>\n      <td>NNHH-65A-R4</td>\n      <td>20.0</td>\n      <td>60</td>\n      <td>89.11</td>\n      <td>15.95</td>\n    </tr>\n  </tbody>\n</table>\n</div>"
     },
     "metadata": {},
     "execution_count": 510
    }
   ],
   "source": [
    "df = df[['antenna_id', 'sector', 'port', 'technology', 'freq', 'manufacturer', 'model', 'azimuth', 'agl', 'power', 'gain']]\n",
    "df.head()"
   ]
  },
  {
   "cell_type": "code",
   "execution_count": 511,
   "metadata": {},
   "outputs": [
    {
     "output_type": "execute_result",
     "data": {
      "text/plain": [
       "         antenna_id sector port technology  freq manufacturer        model  \\\n",
       "36  CNU0871_ATT_A_1      A  P01        LTE   700    Commscope  NNHH-65A-R4   \n",
       "37  CNU0871_ATT_A_1      A  P02        LTE   850    Commscope  NNHH-65A-R4   \n",
       "38  CNU0871_ATT_A_1      A  P03        LTE  2100    Commscope  NNHH-65A-R4   \n",
       "39  CNU0871_ATT_A_2      A  P01        LTE   700    Commscope  NNHH-65A-R4   \n",
       "40  CNU0871_ATT_A_2      A  P02        LTE  2300    Commscope  NNHH-65A-R4   \n",
       "\n",
       "    azimuth agl  power  gain   erp  \n",
       "36       20  60     35  11.2   478  \n",
       "37       20  60    142  11.8  2137  \n",
       "38       20  60    141  15.6  5248  \n",
       "39       20  60    141  11.2  1905  \n",
       "40       20  60     89  16.0  3467  "
      ],
      "text/html": "<div>\n<style scoped>\n    .dataframe tbody tr th:only-of-type {\n        vertical-align: middle;\n    }\n\n    .dataframe tbody tr th {\n        vertical-align: top;\n    }\n\n    .dataframe thead th {\n        text-align: right;\n    }\n</style>\n<table border=\"1\" class=\"dataframe\">\n  <thead>\n    <tr style=\"text-align: right;\">\n      <th></th>\n      <th>antenna_id</th>\n      <th>sector</th>\n      <th>port</th>\n      <th>technology</th>\n      <th>freq</th>\n      <th>manufacturer</th>\n      <th>model</th>\n      <th>azimuth</th>\n      <th>agl</th>\n      <th>power</th>\n      <th>gain</th>\n      <th>erp</th>\n    </tr>\n  </thead>\n  <tbody>\n    <tr>\n      <th>36</th>\n      <td>CNU0871_ATT_A_1</td>\n      <td>A</td>\n      <td>P01</td>\n      <td>LTE</td>\n      <td>700</td>\n      <td>Commscope</td>\n      <td>NNHH-65A-R4</td>\n      <td>20</td>\n      <td>60</td>\n      <td>35</td>\n      <td>11.2</td>\n      <td>478</td>\n    </tr>\n    <tr>\n      <th>37</th>\n      <td>CNU0871_ATT_A_1</td>\n      <td>A</td>\n      <td>P02</td>\n      <td>LTE</td>\n      <td>850</td>\n      <td>Commscope</td>\n      <td>NNHH-65A-R4</td>\n      <td>20</td>\n      <td>60</td>\n      <td>142</td>\n      <td>11.8</td>\n      <td>2137</td>\n    </tr>\n    <tr>\n      <th>38</th>\n      <td>CNU0871_ATT_A_1</td>\n      <td>A</td>\n      <td>P03</td>\n      <td>LTE</td>\n      <td>2100</td>\n      <td>Commscope</td>\n      <td>NNHH-65A-R4</td>\n      <td>20</td>\n      <td>60</td>\n      <td>141</td>\n      <td>15.6</td>\n      <td>5248</td>\n    </tr>\n    <tr>\n      <th>39</th>\n      <td>CNU0871_ATT_A_2</td>\n      <td>A</td>\n      <td>P01</td>\n      <td>LTE</td>\n      <td>700</td>\n      <td>Commscope</td>\n      <td>NNHH-65A-R4</td>\n      <td>20</td>\n      <td>60</td>\n      <td>141</td>\n      <td>11.2</td>\n      <td>1905</td>\n    </tr>\n    <tr>\n      <th>40</th>\n      <td>CNU0871_ATT_A_2</td>\n      <td>A</td>\n      <td>P02</td>\n      <td>LTE</td>\n      <td>2300</td>\n      <td>Commscope</td>\n      <td>NNHH-65A-R4</td>\n      <td>20</td>\n      <td>60</td>\n      <td>89</td>\n      <td>16.0</td>\n      <td>3467</td>\n    </tr>\n  </tbody>\n</table>\n</div>"
     },
     "metadata": {},
     "execution_count": 511
    }
   ],
   "source": [
    "df['erp_dbm'] = ''\n",
    "df['erp'] = ''\n",
    "for x in range(len(df)):\n",
    "    df['erp_dbm'].iloc[x] = round(W2dBm(df['power'].iloc[x]*1000) + df['gain'].iloc[x], 1)\n",
    "    df['erp'].iloc[x] = int(dBm2W(df['erp_dbm'].iloc[x]) / 1000)\n",
    "df = df.drop('erp_dbm', 1)\n",
    "df['freq'] = df['freq'].astype(int)\n",
    "df['azimuth'] = df['azimuth'].astype(int)\n",
    "df['power'] = df['power'].astype(int)\n",
    "df = df.round({'gain': 1})\n",
    "df.sort_values(['antenna_id', 'port', 'freq'], ascending=[True, True, True], inplace=True)\n",
    "df.head()"
   ]
  },
  {
   "cell_type": "code",
   "execution_count": 512,
   "metadata": {},
   "outputs": [],
   "source": [
    "row_contents = []\n",
    "for x in range(len(df)):\n",
    "    row_contents.append(eval(df.iloc[x].to_json()))"
   ]
  },
  {
   "cell_type": "code",
   "execution_count": 513,
   "metadata": {},
   "outputs": [],
   "source": [
    "context = {\n",
    "    'site_id': site_id,\n",
    "    'address': address,\n",
    "    'row_contents': row_contents\n",
    "    }"
   ]
  },
  {
   "cell_type": "code",
   "execution_count": 514,
   "metadata": {},
   "outputs": [],
   "source": [
    "doc = DocxTemplate('AntennaInventoryTpl.docx')\n",
    "doc.render(context)\n",
    "doc.save('AntennaInventory.docx')"
   ]
  }
 ]
}