{
 "metadata": {
  "language_info": {
   "codemirror_mode": {
    "name": "ipython",
    "version": 3
   },
   "file_extension": ".py",
   "mimetype": "text/x-python",
   "name": "python",
   "nbconvert_exporter": "python",
   "pygments_lexer": "ipython3",
   "version": "3.8.5-final"
  },
  "orig_nbformat": 2,
  "kernelspec": {
   "name": "python3",
   "display_name": "Python 3",
   "language": "python"
  }
 },
 "nbformat": 4,
 "nbformat_minor": 2,
 "cells": [
  {
   "cell_type": "code",
   "execution_count": 454,
   "metadata": {},
   "outputs": [],
   "source": [
    "from io import StringIO\n",
    "from docx.shared import Cm\n",
    "from docxtpl import DocxTemplate, InlineImage\n",
    "import pandas as pd\n",
    "from math import log10\n"
   ]
  },
  {
   "cell_type": "code",
   "execution_count": 455,
   "metadata": {},
   "outputs": [],
   "source": [
    "def qb_dataframe(table_id):\n",
    "    # Get fields\n",
    "    url = \"https://api.quickbase.com/v1/fields?tableId=\" + table_id\n",
    "    payload = {}\n",
    "    headers = {\n",
    "      'QB-Realm-Hostname': 'soteriarf',\n",
    "      'Authorization': 'QB-USER-TOKEN b4pp4v_paqb_eyxwg9bec3v8pb63hjwjb9t36ii',\n",
    "      'Content': 'application.json'\n",
    "    }\n",
    "    response = requests.request(\"GET\", url, headers=headers, data = payload)\n",
    "    df = pd.json_normalize(response.json())\n",
    "    df = df[[\"label\", \"id\", \"fieldType\", \"mode\"]]\n",
    "    df = df.sort_values('id').reset_index(drop=True)\n",
    "    df = df[df['fieldType'] != 'user']\n",
    "    df = df[df['fieldType'] != 'file']\n",
    "    label_list = list(df['label'])\n",
    "    id_list = list(df['id'])\n",
    "    #print(label_list, id_list)\n",
    "    \n",
    "    # Query the table\n",
    "    headers = {\n",
    "      'QB-Realm-Hostname': 'soteriarf.quickbase.com',\n",
    "      'Authorization': 'QB-USER-TOKEN b4pp4v_paqb_eyxwg9bec3v8pb63hjwjb9t36ii',\n",
    "      'Content-Type': 'application/json',\n",
    "    }\n",
    "    body = {\n",
    "        \"from\": table_id,\n",
    "        \"select\": id_list,\n",
    "        \"options\": {\n",
    "            \"skip\": 0,\n",
    "            \"top\": 10000,\n",
    "            #\"compareWithAppLocalTime\": false\n",
    "        }} #, \"where\": \"{6.EQ.'\" + site_id + \"'}\"}\n",
    "    r = requests.post(\n",
    "        'https://api.quickbase.com/v1/records/query', \n",
    "        headers = headers, \n",
    "        json = body\n",
    "    )\n",
    "    df = pd.json_normalize(r.json()['data'])\n",
    "    df.columns = df.columns.str.replace(\".value\", \"\")\n",
    "    \n",
    "    # Rename the dataframe with the correct fields names\n",
    "    id_list = [str(i) for i in id_list] \n",
    "    for col in df.columns:\n",
    "        df.rename(columns={col:label_list[id_list.index((col))]}, inplace=True)\n",
    "    return df"
   ]
  },
  {
   "cell_type": "code",
   "execution_count": 456,
   "metadata": {},
   "outputs": [],
   "source": [
    "# Function to convert from mW to dBm\n",
    "def mW2dBm(mW):\n",
    "    return 10.*log10(mW)\n",
    "\n",
    "# Function to convert from dBm to mW\n",
    "def dBm2mW(dBm):\n",
    "    return 10**((dBm)/10.)"
   ]
  },
  {
   "cell_type": "code",
   "execution_count": 457,
   "metadata": {},
   "outputs": [],
   "source": [
    "def get_context(row_contents):\n",
    "    \"\"\" You can generate your context separately since you may deal with a lot \n",
    "        of documents. You can carry out computations, etc in here and make the\n",
    "        context look like the sample below.\n",
    "    \"\"\"\n",
    "    return {\n",
    "        'site_id': \"SF14136A\",\n",
    "        'date': '30 Mar',\n",
    "        'due_date': '30 Apr',\n",
    "        'name': 'Jane Doe',\n",
    "        'address': '100 South Mathilda Avenue, Sunnyvale, California 94086',\n",
    "        'subtotal': 335,\n",
    "        'tax_amt': 10,\n",
    "        'total': 345,\n",
    "        'amt_paid': 100,\n",
    "        'amt_due': 245,\n",
    "        'row_contents': row_contents\n",
    "        # [\n",
    "        #     {\n",
    "        #         'sector': 'A',\n",
    "        #         'technology': 'LTE',\n",
    "        #         'freq': 2100,\n",
    "        #         'manufacturer': \"Ericsson\",\n",
    "        #         'model': \"AIR32\",\n",
    "        #         'azimuth': 0,\n",
    "        #         'agl': 96,\n",
    "        #         'power': 40,\n",
    "        #         'gain': 14.1,\n",
    "        #         'erp': 2000\n",
    "        #     }, {\n",
    "        #         'sector': 'B',\n",
    "        #         'technology': 'N',\n",
    "        #         'freq': 2500,\n",
    "        #         'manufacturer': \"Commscope\",\n",
    "        #         'model': \"AIR6449\",\n",
    "        #         'azimuth': 120,\n",
    "        #         'agl': 96,\n",
    "        #         'power': 80,\n",
    "        #         'gain': 14.1,\n",
    "        #         'erp': 2000\n",
    "        #     }, {\n",
    "        #         'sector': 'C',\n",
    "        #         'technology': 'GSM',\n",
    "        #         'freq': 1900,\n",
    "        #         'manufacturer': \"RFS\",\n",
    "        #         'model': \"AIR21\",\n",
    "        #         'azimuth': 240,\n",
    "        #         'agl': 96,\n",
    "        #         'power': 120,\n",
    "        #         'gain': 14.1,\n",
    "        #         'erp': 2000            }\n",
    "        # ]\n",
    "    }\n",
    "    #Antenna  ManufacturerAntenna ModelAzimuth (°TN)AGL (FT)Antenna Input Power (W)Antenna Gain (dBd)Power Output (ERP), W"
   ]
  },
  {
   "cell_type": "code",
   "execution_count": 319,
   "metadata": {},
   "outputs": [],
   "source": []
  },
  {
   "cell_type": "code",
   "execution_count": 458,
   "metadata": {},
   "outputs": [
    {
     "output_type": "execute_result",
     "data": {
      "text/plain": [
       "           Date Created  Input Power (W)         Date Modified  \\\n",
       "0  2020-12-09T00:02:02Z            280.0  2020-12-15T22:50:39Z   \n",
       "1  2020-12-09T00:08:46Z             80.0  2020-12-14T17:45:10Z   \n",
       "2  2020-12-09T00:10:24Z            160.0  2020-12-14T17:45:10Z   \n",
       "3  2020-12-09T00:12:19Z             80.0  2020-12-14T17:45:10Z   \n",
       "4  2020-12-09T00:12:35Z            160.0  2020-12-14T17:45:10Z   \n",
       "\n",
       "               Pattern Code  Pattern Code - Aperture (Feet)  \\\n",
       "0              AIR6449_2500                        2.759183   \n",
       "1                AIR32_2100                        6.466667   \n",
       "2                AIR32_1900                        6.466667   \n",
       "3  APXVAARR18_43-U-NA20_700                        6.000000   \n",
       "4  APXVAARR18_43-U-NA20_600                        6.000000   \n",
       "\n",
       "   Pattern Code - Gain (dBd)  Pattern Code - Horizontal BW  \\\n",
       "0                      22.65                          60.0   \n",
       "1                      15.35                          59.0   \n",
       "2                      15.35                          60.0   \n",
       "3                      12.65                          63.0   \n",
       "4                      12.25                          66.0   \n",
       "\n",
       "   Pattern Code - Vertical BW  Record ID# Pattern Code - Manufacturer  ...  \\\n",
       "0                         7.5         322                    Ericsson  ...   \n",
       "1                         5.2         326                    Ericsson  ...   \n",
       "2                         5.6         329                    Ericsson  ...   \n",
       "3                        13.0         332                         RFS  ...   \n",
       "4                        14.0         333                         RFS  ...   \n",
       "\n",
       "   Antenna Location - SITE_ID - Rooftop AGL  \\\n",
       "0                                      92.0   \n",
       "1                                      92.0   \n",
       "2                                      92.0   \n",
       "3                                      92.0   \n",
       "4                                      92.0   \n",
       "\n",
       "  Antenna Location - SITE_ID - Roofview AGL Antenna Location - ANTENNA_ID  \\\n",
       "0                                      92.0              SF14136A_TMO_A_1   \n",
       "1                                      92.0              SF14136A_TMO_A_2   \n",
       "2                                      92.0              SF14136A_TMO_A_2   \n",
       "3                                      92.0              SF14136A_TMO_A_3   \n",
       "4                                      92.0              SF14136A_TMO_A_3   \n",
       "\n",
       "  Antenna Location - SECTOR Radio Power (W)  Number of Radios  Loss (dB)  \\\n",
       "0                         A           280.0               1.0        NaN   \n",
       "1                         A            40.0               2.0        NaN   \n",
       "2                         A            40.0               4.0        NaN   \n",
       "3                         A            40.0               2.0        NaN   \n",
       "4                         A            40.0               4.0        NaN   \n",
       "\n",
       "   Antenna Location - RAD_CENTER_FT  Technology  Frequency MHz  \n",
       "0                                96         LTE         2500.0  \n",
       "1                                96                     2100.0  \n",
       "2                                96                     1900.0  \n",
       "3                                96                      700.0  \n",
       "4                                96                      600.0  \n",
       "\n",
       "[5 rows x 29 columns]"
      ],
      "text/html": "<div>\n<style scoped>\n    .dataframe tbody tr th:only-of-type {\n        vertical-align: middle;\n    }\n\n    .dataframe tbody tr th {\n        vertical-align: top;\n    }\n\n    .dataframe thead th {\n        text-align: right;\n    }\n</style>\n<table border=\"1\" class=\"dataframe\">\n  <thead>\n    <tr style=\"text-align: right;\">\n      <th></th>\n      <th>Date Created</th>\n      <th>Input Power (W)</th>\n      <th>Date Modified</th>\n      <th>Pattern Code</th>\n      <th>Pattern Code - Aperture (Feet)</th>\n      <th>Pattern Code - Gain (dBd)</th>\n      <th>Pattern Code - Horizontal BW</th>\n      <th>Pattern Code - Vertical BW</th>\n      <th>Record ID#</th>\n      <th>Pattern Code - Manufacturer</th>\n      <th>...</th>\n      <th>Antenna Location - SITE_ID - Rooftop AGL</th>\n      <th>Antenna Location - SITE_ID - Roofview AGL</th>\n      <th>Antenna Location - ANTENNA_ID</th>\n      <th>Antenna Location - SECTOR</th>\n      <th>Radio Power (W)</th>\n      <th>Number of Radios</th>\n      <th>Loss (dB)</th>\n      <th>Antenna Location - RAD_CENTER_FT</th>\n      <th>Technology</th>\n      <th>Frequency MHz</th>\n    </tr>\n  </thead>\n  <tbody>\n    <tr>\n      <th>0</th>\n      <td>2020-12-09T00:02:02Z</td>\n      <td>280.0</td>\n      <td>2020-12-15T22:50:39Z</td>\n      <td>AIR6449_2500</td>\n      <td>2.759183</td>\n      <td>22.65</td>\n      <td>60.0</td>\n      <td>7.5</td>\n      <td>322</td>\n      <td>Ericsson</td>\n      <td>...</td>\n      <td>92.0</td>\n      <td>92.0</td>\n      <td>SF14136A_TMO_A_1</td>\n      <td>A</td>\n      <td>280.0</td>\n      <td>1.0</td>\n      <td>NaN</td>\n      <td>96</td>\n      <td>LTE</td>\n      <td>2500.0</td>\n    </tr>\n    <tr>\n      <th>1</th>\n      <td>2020-12-09T00:08:46Z</td>\n      <td>80.0</td>\n      <td>2020-12-14T17:45:10Z</td>\n      <td>AIR32_2100</td>\n      <td>6.466667</td>\n      <td>15.35</td>\n      <td>59.0</td>\n      <td>5.2</td>\n      <td>326</td>\n      <td>Ericsson</td>\n      <td>...</td>\n      <td>92.0</td>\n      <td>92.0</td>\n      <td>SF14136A_TMO_A_2</td>\n      <td>A</td>\n      <td>40.0</td>\n      <td>2.0</td>\n      <td>NaN</td>\n      <td>96</td>\n      <td></td>\n      <td>2100.0</td>\n    </tr>\n    <tr>\n      <th>2</th>\n      <td>2020-12-09T00:10:24Z</td>\n      <td>160.0</td>\n      <td>2020-12-14T17:45:10Z</td>\n      <td>AIR32_1900</td>\n      <td>6.466667</td>\n      <td>15.35</td>\n      <td>60.0</td>\n      <td>5.6</td>\n      <td>329</td>\n      <td>Ericsson</td>\n      <td>...</td>\n      <td>92.0</td>\n      <td>92.0</td>\n      <td>SF14136A_TMO_A_2</td>\n      <td>A</td>\n      <td>40.0</td>\n      <td>4.0</td>\n      <td>NaN</td>\n      <td>96</td>\n      <td></td>\n      <td>1900.0</td>\n    </tr>\n    <tr>\n      <th>3</th>\n      <td>2020-12-09T00:12:19Z</td>\n      <td>80.0</td>\n      <td>2020-12-14T17:45:10Z</td>\n      <td>APXVAARR18_43-U-NA20_700</td>\n      <td>6.000000</td>\n      <td>12.65</td>\n      <td>63.0</td>\n      <td>13.0</td>\n      <td>332</td>\n      <td>RFS</td>\n      <td>...</td>\n      <td>92.0</td>\n      <td>92.0</td>\n      <td>SF14136A_TMO_A_3</td>\n      <td>A</td>\n      <td>40.0</td>\n      <td>2.0</td>\n      <td>NaN</td>\n      <td>96</td>\n      <td></td>\n      <td>700.0</td>\n    </tr>\n    <tr>\n      <th>4</th>\n      <td>2020-12-09T00:12:35Z</td>\n      <td>160.0</td>\n      <td>2020-12-14T17:45:10Z</td>\n      <td>APXVAARR18_43-U-NA20_600</td>\n      <td>6.000000</td>\n      <td>12.25</td>\n      <td>66.0</td>\n      <td>14.0</td>\n      <td>333</td>\n      <td>RFS</td>\n      <td>...</td>\n      <td>92.0</td>\n      <td>92.0</td>\n      <td>SF14136A_TMO_A_3</td>\n      <td>A</td>\n      <td>40.0</td>\n      <td>4.0</td>\n      <td>NaN</td>\n      <td>96</td>\n      <td></td>\n      <td>600.0</td>\n    </tr>\n  </tbody>\n</table>\n<p>5 rows × 29 columns</p>\n</div>"
     },
     "metadata": {},
     "execution_count": 458
    }
   ],
   "source": [
    "# Load Transmitters Table\n",
    "df = qb_dataframe('bqzaae4x9')\n",
    "\n",
    "# Query on the site\n",
    "df = df[df['Antenna Location - SITE_ID'] == site_id]\n",
    "df.head()"
   ]
  },
  {
   "cell_type": "code",
   "execution_count": 459,
   "metadata": {},
   "outputs": [
    {
     "output_type": "execute_result",
     "data": {
      "text/plain": [
       "['Date Created',\n",
       " 'Input Power (W)',\n",
       " 'Date Modified',\n",
       " 'Pattern Code',\n",
       " 'Pattern Code - Aperture (Feet)',\n",
       " 'Pattern Code - Gain (dBd)',\n",
       " 'Pattern Code - Horizontal BW',\n",
       " 'Pattern Code - Vertical BW',\n",
       " 'Record ID#',\n",
       " 'Pattern Code - Manufacturer',\n",
       " 'z_roofview',\n",
       " 'sort_key',\n",
       " 'Related Antenna Location',\n",
       " 'Antenna Location - SITE_ID',\n",
       " 'Antenna Location - ANTENNA_MODEL',\n",
       " 'Antenna Location - AZIMUTH',\n",
       " 'Antenna Location - SITE_ID - Scale',\n",
       " 'Antenna Location - x_roofview',\n",
       " 'Antenna Location - y_roofview',\n",
       " 'Antenna Location - SITE_ID - Rooftop AGL',\n",
       " 'Antenna Location - SITE_ID - Roofview AGL',\n",
       " 'Antenna Location - ANTENNA_ID',\n",
       " 'Antenna Location - SECTOR',\n",
       " 'Radio Power (W)',\n",
       " 'Number of Radios',\n",
       " 'Loss (dB)',\n",
       " 'Antenna Location - RAD_CENTER_FT',\n",
       " 'Technology',\n",
       " 'Frequency MHz']"
      ]
     },
     "metadata": {},
     "execution_count": 459
    }
   ],
   "source": [
    "list(df)"
   ]
  },
  {
   "cell_type": "code",
   "execution_count": 460,
   "metadata": {},
   "outputs": [
    {
     "output_type": "execute_result",
     "data": {
      "text/plain": [
       "           Date Created  power         Date Modified  \\\n",
       "0  2020-12-09T00:02:02Z  280.0  2020-12-15T22:50:39Z   \n",
       "1  2020-12-09T00:08:46Z   80.0  2020-12-14T17:45:10Z   \n",
       "2  2020-12-09T00:10:24Z  160.0  2020-12-14T17:45:10Z   \n",
       "3  2020-12-09T00:12:19Z   80.0  2020-12-14T17:45:10Z   \n",
       "4  2020-12-09T00:12:35Z  160.0  2020-12-14T17:45:10Z   \n",
       "\n",
       "               Pattern Code  Pattern Code - Aperture (Feet)   gain  \\\n",
       "0              AIR6449_2500                        2.759183  22.65   \n",
       "1                AIR32_2100                        6.466667  15.35   \n",
       "2                AIR32_1900                        6.466667  15.35   \n",
       "3  APXVAARR18_43-U-NA20_700                        6.000000  12.65   \n",
       "4  APXVAARR18_43-U-NA20_600                        6.000000  12.25   \n",
       "\n",
       "   Pattern Code - Horizontal BW  Pattern Code - Vertical BW  Record ID#  \\\n",
       "0                          60.0                         7.5         322   \n",
       "1                          59.0                         5.2         326   \n",
       "2                          60.0                         5.6         329   \n",
       "3                          63.0                        13.0         332   \n",
       "4                          66.0                        14.0         333   \n",
       "\n",
       "  manufacturer  ...  Antenna Location - SITE_ID - Rooftop AGL  \\\n",
       "0     Ericsson  ...                                      92.0   \n",
       "1     Ericsson  ...                                      92.0   \n",
       "2     Ericsson  ...                                      92.0   \n",
       "3          RFS  ...                                      92.0   \n",
       "4          RFS  ...                                      92.0   \n",
       "\n",
       "  Antenna Location - SITE_ID - Roofview AGL Antenna Location - ANTENNA_ID  \\\n",
       "0                                      92.0              SF14136A_TMO_A_1   \n",
       "1                                      92.0              SF14136A_TMO_A_2   \n",
       "2                                      92.0              SF14136A_TMO_A_2   \n",
       "3                                      92.0              SF14136A_TMO_A_3   \n",
       "4                                      92.0              SF14136A_TMO_A_3   \n",
       "\n",
       "  sector Radio Power (W)  Number of Radios  Loss (dB)  agl  technology    freq  \n",
       "0      A           280.0               1.0        NaN   96         LTE  2500.0  \n",
       "1      A            40.0               2.0        NaN   96              2100.0  \n",
       "2      A            40.0               4.0        NaN   96              1900.0  \n",
       "3      A            40.0               2.0        NaN   96               700.0  \n",
       "4      A            40.0               4.0        NaN   96               600.0  \n",
       "\n",
       "[5 rows x 29 columns]"
      ],
      "text/html": "<div>\n<style scoped>\n    .dataframe tbody tr th:only-of-type {\n        vertical-align: middle;\n    }\n\n    .dataframe tbody tr th {\n        vertical-align: top;\n    }\n\n    .dataframe thead th {\n        text-align: right;\n    }\n</style>\n<table border=\"1\" class=\"dataframe\">\n  <thead>\n    <tr style=\"text-align: right;\">\n      <th></th>\n      <th>Date Created</th>\n      <th>power</th>\n      <th>Date Modified</th>\n      <th>Pattern Code</th>\n      <th>Pattern Code - Aperture (Feet)</th>\n      <th>gain</th>\n      <th>Pattern Code - Horizontal BW</th>\n      <th>Pattern Code - Vertical BW</th>\n      <th>Record ID#</th>\n      <th>manufacturer</th>\n      <th>...</th>\n      <th>Antenna Location - SITE_ID - Rooftop AGL</th>\n      <th>Antenna Location - SITE_ID - Roofview AGL</th>\n      <th>Antenna Location - ANTENNA_ID</th>\n      <th>sector</th>\n      <th>Radio Power (W)</th>\n      <th>Number of Radios</th>\n      <th>Loss (dB)</th>\n      <th>agl</th>\n      <th>technology</th>\n      <th>freq</th>\n    </tr>\n  </thead>\n  <tbody>\n    <tr>\n      <th>0</th>\n      <td>2020-12-09T00:02:02Z</td>\n      <td>280.0</td>\n      <td>2020-12-15T22:50:39Z</td>\n      <td>AIR6449_2500</td>\n      <td>2.759183</td>\n      <td>22.65</td>\n      <td>60.0</td>\n      <td>7.5</td>\n      <td>322</td>\n      <td>Ericsson</td>\n      <td>...</td>\n      <td>92.0</td>\n      <td>92.0</td>\n      <td>SF14136A_TMO_A_1</td>\n      <td>A</td>\n      <td>280.0</td>\n      <td>1.0</td>\n      <td>NaN</td>\n      <td>96</td>\n      <td>LTE</td>\n      <td>2500.0</td>\n    </tr>\n    <tr>\n      <th>1</th>\n      <td>2020-12-09T00:08:46Z</td>\n      <td>80.0</td>\n      <td>2020-12-14T17:45:10Z</td>\n      <td>AIR32_2100</td>\n      <td>6.466667</td>\n      <td>15.35</td>\n      <td>59.0</td>\n      <td>5.2</td>\n      <td>326</td>\n      <td>Ericsson</td>\n      <td>...</td>\n      <td>92.0</td>\n      <td>92.0</td>\n      <td>SF14136A_TMO_A_2</td>\n      <td>A</td>\n      <td>40.0</td>\n      <td>2.0</td>\n      <td>NaN</td>\n      <td>96</td>\n      <td></td>\n      <td>2100.0</td>\n    </tr>\n    <tr>\n      <th>2</th>\n      <td>2020-12-09T00:10:24Z</td>\n      <td>160.0</td>\n      <td>2020-12-14T17:45:10Z</td>\n      <td>AIR32_1900</td>\n      <td>6.466667</td>\n      <td>15.35</td>\n      <td>60.0</td>\n      <td>5.6</td>\n      <td>329</td>\n      <td>Ericsson</td>\n      <td>...</td>\n      <td>92.0</td>\n      <td>92.0</td>\n      <td>SF14136A_TMO_A_2</td>\n      <td>A</td>\n      <td>40.0</td>\n      <td>4.0</td>\n      <td>NaN</td>\n      <td>96</td>\n      <td></td>\n      <td>1900.0</td>\n    </tr>\n    <tr>\n      <th>3</th>\n      <td>2020-12-09T00:12:19Z</td>\n      <td>80.0</td>\n      <td>2020-12-14T17:45:10Z</td>\n      <td>APXVAARR18_43-U-NA20_700</td>\n      <td>6.000000</td>\n      <td>12.65</td>\n      <td>63.0</td>\n      <td>13.0</td>\n      <td>332</td>\n      <td>RFS</td>\n      <td>...</td>\n      <td>92.0</td>\n      <td>92.0</td>\n      <td>SF14136A_TMO_A_3</td>\n      <td>A</td>\n      <td>40.0</td>\n      <td>2.0</td>\n      <td>NaN</td>\n      <td>96</td>\n      <td></td>\n      <td>700.0</td>\n    </tr>\n    <tr>\n      <th>4</th>\n      <td>2020-12-09T00:12:35Z</td>\n      <td>160.0</td>\n      <td>2020-12-14T17:45:10Z</td>\n      <td>APXVAARR18_43-U-NA20_600</td>\n      <td>6.000000</td>\n      <td>12.25</td>\n      <td>66.0</td>\n      <td>14.0</td>\n      <td>333</td>\n      <td>RFS</td>\n      <td>...</td>\n      <td>92.0</td>\n      <td>92.0</td>\n      <td>SF14136A_TMO_A_3</td>\n      <td>A</td>\n      <td>40.0</td>\n      <td>4.0</td>\n      <td>NaN</td>\n      <td>96</td>\n      <td></td>\n      <td>600.0</td>\n    </tr>\n  </tbody>\n</table>\n<p>5 rows × 29 columns</p>\n</div>"
     },
     "metadata": {},
     "execution_count": 460
    }
   ],
   "source": [
    "df = df.rename(columns={\n",
    "    'Antenna Location - SECTOR': 'sector',\n",
    "    'Technology': 'technology',\n",
    "    'Frequency MHz': 'freq',\n",
    "    'Pattern Code - Manufacturer': 'manufacturer',\n",
    "    'Antenna Location - ANTENNA_MODEL': 'model',\n",
    "    'Antenna Location - AZIMUTH': 'azimuth',\n",
    "    'Antenna Location - RAD_CENTER_FT': 'agl',\n",
    "    'Input Power (W)': 'power',\n",
    "    'Pattern Code - Gain (dBd)': 'gain'\n",
    "    })\n",
    "df.head()"
   ]
  },
  {
   "cell_type": "code",
   "execution_count": 461,
   "metadata": {},
   "outputs": [
    {
     "output_type": "execute_result",
     "data": {
      "text/plain": [
       "  sector technology    freq manufacturer                 model  azimuth agl  \\\n",
       "0      A        LTE  2500.0     Ericsson               AIR6449     10.0  96   \n",
       "1      A             2100.0     Ericsson                 AIR32     10.0  96   \n",
       "2      A             1900.0     Ericsson                 AIR32     10.0  96   \n",
       "3      A              700.0          RFS  APXVAARR18_43-U-NA20     10.0  96   \n",
       "4      A              600.0          RFS  APXVAARR18_43-U-NA20     10.0  96   \n",
       "\n",
       "   power   gain  \n",
       "0  280.0  22.65  \n",
       "1   80.0  15.35  \n",
       "2  160.0  15.35  \n",
       "3   80.0  12.65  \n",
       "4  160.0  12.25  "
      ],
      "text/html": "<div>\n<style scoped>\n    .dataframe tbody tr th:only-of-type {\n        vertical-align: middle;\n    }\n\n    .dataframe tbody tr th {\n        vertical-align: top;\n    }\n\n    .dataframe thead th {\n        text-align: right;\n    }\n</style>\n<table border=\"1\" class=\"dataframe\">\n  <thead>\n    <tr style=\"text-align: right;\">\n      <th></th>\n      <th>sector</th>\n      <th>technology</th>\n      <th>freq</th>\n      <th>manufacturer</th>\n      <th>model</th>\n      <th>azimuth</th>\n      <th>agl</th>\n      <th>power</th>\n      <th>gain</th>\n    </tr>\n  </thead>\n  <tbody>\n    <tr>\n      <th>0</th>\n      <td>A</td>\n      <td>LTE</td>\n      <td>2500.0</td>\n      <td>Ericsson</td>\n      <td>AIR6449</td>\n      <td>10.0</td>\n      <td>96</td>\n      <td>280.0</td>\n      <td>22.65</td>\n    </tr>\n    <tr>\n      <th>1</th>\n      <td>A</td>\n      <td></td>\n      <td>2100.0</td>\n      <td>Ericsson</td>\n      <td>AIR32</td>\n      <td>10.0</td>\n      <td>96</td>\n      <td>80.0</td>\n      <td>15.35</td>\n    </tr>\n    <tr>\n      <th>2</th>\n      <td>A</td>\n      <td></td>\n      <td>1900.0</td>\n      <td>Ericsson</td>\n      <td>AIR32</td>\n      <td>10.0</td>\n      <td>96</td>\n      <td>160.0</td>\n      <td>15.35</td>\n    </tr>\n    <tr>\n      <th>3</th>\n      <td>A</td>\n      <td></td>\n      <td>700.0</td>\n      <td>RFS</td>\n      <td>APXVAARR18_43-U-NA20</td>\n      <td>10.0</td>\n      <td>96</td>\n      <td>80.0</td>\n      <td>12.65</td>\n    </tr>\n    <tr>\n      <th>4</th>\n      <td>A</td>\n      <td></td>\n      <td>600.0</td>\n      <td>RFS</td>\n      <td>APXVAARR18_43-U-NA20</td>\n      <td>10.0</td>\n      <td>96</td>\n      <td>160.0</td>\n      <td>12.25</td>\n    </tr>\n  </tbody>\n</table>\n</div>"
     },
     "metadata": {},
     "execution_count": 461
    }
   ],
   "source": [
    "df = df[['sector', 'technology', 'freq', 'manufacturer', 'model', 'azimuth', 'agl', 'power', 'gain']]\n",
    "df.head()"
   ]
  },
  {
   "cell_type": "code",
   "execution_count": 462,
   "metadata": {},
   "outputs": [
    {
     "output_type": "execute_result",
     "data": {
      "text/plain": [
       "  sector technology    freq manufacturer                 model  azimuth agl  \\\n",
       "0      A        LTE  2500.0     Ericsson               AIR6449     10.0  96   \n",
       "1      A             2100.0     Ericsson                 AIR32     10.0  96   \n",
       "2      A             1900.0     Ericsson                 AIR32     10.0  96   \n",
       "3      A              700.0          RFS  APXVAARR18_43-U-NA20     10.0  96   \n",
       "4      A              600.0          RFS  APXVAARR18_43-U-NA20     10.0  96   \n",
       "\n",
       "   power   gain    erp  \n",
       "0  280.0  22.65  51286  \n",
       "1   80.0  15.35   2754  \n",
       "2  160.0  15.35   5495  \n",
       "3   80.0  12.65   1479  \n",
       "4  160.0  12.25   2691  "
      ],
      "text/html": "<div>\n<style scoped>\n    .dataframe tbody tr th:only-of-type {\n        vertical-align: middle;\n    }\n\n    .dataframe tbody tr th {\n        vertical-align: top;\n    }\n\n    .dataframe thead th {\n        text-align: right;\n    }\n</style>\n<table border=\"1\" class=\"dataframe\">\n  <thead>\n    <tr style=\"text-align: right;\">\n      <th></th>\n      <th>sector</th>\n      <th>technology</th>\n      <th>freq</th>\n      <th>manufacturer</th>\n      <th>model</th>\n      <th>azimuth</th>\n      <th>agl</th>\n      <th>power</th>\n      <th>gain</th>\n      <th>erp</th>\n    </tr>\n  </thead>\n  <tbody>\n    <tr>\n      <th>0</th>\n      <td>A</td>\n      <td>LTE</td>\n      <td>2500.0</td>\n      <td>Ericsson</td>\n      <td>AIR6449</td>\n      <td>10.0</td>\n      <td>96</td>\n      <td>280.0</td>\n      <td>22.65</td>\n      <td>51286</td>\n    </tr>\n    <tr>\n      <th>1</th>\n      <td>A</td>\n      <td></td>\n      <td>2100.0</td>\n      <td>Ericsson</td>\n      <td>AIR32</td>\n      <td>10.0</td>\n      <td>96</td>\n      <td>80.0</td>\n      <td>15.35</td>\n      <td>2754</td>\n    </tr>\n    <tr>\n      <th>2</th>\n      <td>A</td>\n      <td></td>\n      <td>1900.0</td>\n      <td>Ericsson</td>\n      <td>AIR32</td>\n      <td>10.0</td>\n      <td>96</td>\n      <td>160.0</td>\n      <td>15.35</td>\n      <td>5495</td>\n    </tr>\n    <tr>\n      <th>3</th>\n      <td>A</td>\n      <td></td>\n      <td>700.0</td>\n      <td>RFS</td>\n      <td>APXVAARR18_43-U-NA20</td>\n      <td>10.0</td>\n      <td>96</td>\n      <td>80.0</td>\n      <td>12.65</td>\n      <td>1479</td>\n    </tr>\n    <tr>\n      <th>4</th>\n      <td>A</td>\n      <td></td>\n      <td>600.0</td>\n      <td>RFS</td>\n      <td>APXVAARR18_43-U-NA20</td>\n      <td>10.0</td>\n      <td>96</td>\n      <td>160.0</td>\n      <td>12.25</td>\n      <td>2691</td>\n    </tr>\n  </tbody>\n</table>\n</div>"
     },
     "metadata": {},
     "execution_count": 462
    }
   ],
   "source": [
    "df['erp_dbm'] = ''\n",
    "df['erp'] = ''\n",
    "for x in range(len(df)):\n",
    "    df['erp_dbm'].iloc[x] = round(mW2dBm(df['power'].iloc[x]*1000) + df['gain'].iloc[x], 1)\n",
    "    df['erp'].iloc[x] = int(dBm2mW(df['erp_dbm'].iloc[x]) / 1000)\n",
    "df = df.drop('erp_dbm', 1)\n",
    "df.head()"
   ]
  },
  {
   "cell_type": "code",
   "execution_count": 463,
   "metadata": {},
   "outputs": [],
   "source": [
    "df.iloc[0].to_json(r'json_out.json')\n",
    "# {\"sector\":\"A\",\"technology\":\"LTE\",\"freq\":2500.0,\"manufacturer\":\"Ericsson\",\"model\":\"AIR6449\",\"azimuth\":10.0,\"agl\":\"96\",\"power\":280.0,\"gain\":22.65,\"erp_dbm\":77.1,\"erp\":51286}"
   ]
  },
  {
   "cell_type": "code",
   "execution_count": 464,
   "metadata": {},
   "outputs": [
    {
     "output_type": "stream",
     "name": "stdout",
     "text": [
      "{\"sector\":\"A\",\"technology\":\"LTE\",\"freq\":2500.0,\"manufacturer\":\"Ericsson\",\"model\":\"AIR6449\",\"azimuth\":10.0,\"agl\":\"96\",\"power\":280.0,\"gain\":22.65,\"erp\":51286}\n{\"sector\":\"A\",\"technology\":\"\",\"freq\":2100.0,\"manufacturer\":\"Ericsson\",\"model\":\"AIR32\",\"azimuth\":10.0,\"agl\":\"96\",\"power\":80.0,\"gain\":15.35,\"erp\":2754}\n{\"sector\":\"A\",\"technology\":\"\",\"freq\":1900.0,\"manufacturer\":\"Ericsson\",\"model\":\"AIR32\",\"azimuth\":10.0,\"agl\":\"96\",\"power\":160.0,\"gain\":15.35,\"erp\":5495}\n{\"sector\":\"A\",\"technology\":\"\",\"freq\":700.0,\"manufacturer\":\"RFS\",\"model\":\"APXVAARR18_43-U-NA20\",\"azimuth\":10.0,\"agl\":\"96\",\"power\":80.0,\"gain\":12.65,\"erp\":1479}\n{\"sector\":\"A\",\"technology\":\"\",\"freq\":600.0,\"manufacturer\":\"RFS\",\"model\":\"APXVAARR18_43-U-NA20\",\"azimuth\":10.0,\"agl\":\"96\",\"power\":160.0,\"gain\":12.25,\"erp\":2691}\n{\"sector\":\"A\",\"technology\":\"\",\"freq\":1900.0,\"manufacturer\":\"RFS\",\"model\":\"APXVAARR18_43-U-NA20\",\"azimuth\":10.0,\"agl\":\"96\",\"power\":160.0,\"gain\":14.85,\"erp\":4897}\n{\"sector\":\"B\",\"technology\":\"\",\"freq\":2500.0,\"manufacturer\":\"Ericsson\",\"model\":\"AIR6449\",\"azimuth\":140.0,\"agl\":\"96\",\"power\":280.0,\"gain\":22.65,\"erp\":51286}\n{\"sector\":\"B\",\"technology\":\"\",\"freq\":1900.0,\"manufacturer\":\"Ericsson\",\"model\":\"AIR32\",\"azimuth\":140.0,\"agl\":\"96\",\"power\":160.0,\"gain\":15.35,\"erp\":5495}\n{\"sector\":\"B\",\"technology\":\"\",\"freq\":2100.0,\"manufacturer\":\"Ericsson\",\"model\":\"AIR32\",\"azimuth\":140.0,\"agl\":\"96\",\"power\":80.0,\"gain\":15.35,\"erp\":2754}\n{\"sector\":\"B\",\"technology\":\"\",\"freq\":600.0,\"manufacturer\":\"RFS\",\"model\":\"APXVAARR18_43-U-NA20\",\"azimuth\":140.0,\"agl\":\"96\",\"power\":160.0,\"gain\":12.25,\"erp\":2691}\n{\"sector\":\"B\",\"technology\":\"\",\"freq\":700.0,\"manufacturer\":\"RFS\",\"model\":\"APXVAARR18_43-U-NA20\",\"azimuth\":140.0,\"agl\":\"96\",\"power\":80.0,\"gain\":12.65,\"erp\":1479}\n{\"sector\":\"B\",\"technology\":\"\",\"freq\":1900.0,\"manufacturer\":\"RFS\",\"model\":\"APXVAARR18_43-U-NA20\",\"azimuth\":140.0,\"agl\":\"96\",\"power\":160.0,\"gain\":14.85,\"erp\":4897}\n{\"sector\":\"C\",\"technology\":\"\",\"freq\":2500.0,\"manufacturer\":\"Ericsson\",\"model\":\"AIR6449\",\"azimuth\":240.0,\"agl\":\"96\",\"power\":280.0,\"gain\":22.65,\"erp\":51286}\n{\"sector\":\"C\",\"technology\":\"\",\"freq\":1900.0,\"manufacturer\":\"Ericsson\",\"model\":\"AIR32\",\"azimuth\":240.0,\"agl\":\"96\",\"power\":160.0,\"gain\":15.35,\"erp\":5495}\n{\"sector\":\"C\",\"technology\":\"\",\"freq\":2100.0,\"manufacturer\":\"Ericsson\",\"model\":\"AIR32\",\"azimuth\":240.0,\"agl\":\"96\",\"power\":80.0,\"gain\":15.35,\"erp\":2754}\n{\"sector\":\"C\",\"technology\":\"\",\"freq\":600.0,\"manufacturer\":\"RFS\",\"model\":\"APXVAARR18_43-U-NA20\",\"azimuth\":240.0,\"agl\":\"96\",\"power\":160.0,\"gain\":12.25,\"erp\":2691}\n{\"sector\":\"C\",\"technology\":\"\",\"freq\":700.0,\"manufacturer\":\"RFS\",\"model\":\"APXVAARR18_43-U-NA20\",\"azimuth\":240.0,\"agl\":\"96\",\"power\":80.0,\"gain\":12.65,\"erp\":1479}\n{\"sector\":\"C\",\"technology\":\"\",\"freq\":1900.0,\"manufacturer\":\"RFS\",\"model\":\"APXVAARR18_43-U-NA20\",\"azimuth\":240.0,\"agl\":\"96\",\"power\":160.0,\"gain\":14.85,\"erp\":4897}\n"
     ]
    },
    {
     "output_type": "execute_result",
     "data": {
      "text/plain": [
       "['\"{\\\\\"sector\\\\\":\\\\\"A\\\\\",\\\\\"technology\\\\\":\\\\\"LTE\\\\\",\\\\\"freq\\\\\":2500.0,\\\\\"manufacturer\\\\\":\\\\\"Ericsson\\\\\",\\\\\"model\\\\\":\\\\\"AIR6449\\\\\",\\\\\"azimuth\\\\\":10.0,\\\\\"agl\\\\\":\\\\\"96\\\\\",\\\\\"power\\\\\":280.0,\\\\\"gain\\\\\":22.65,\\\\\"erp\\\\\":51286}\"',\n",
       " '\"{\\\\\"sector\\\\\":\\\\\"A\\\\\",\\\\\"technology\\\\\":\\\\\"\\\\\",\\\\\"freq\\\\\":2100.0,\\\\\"manufacturer\\\\\":\\\\\"Ericsson\\\\\",\\\\\"model\\\\\":\\\\\"AIR32\\\\\",\\\\\"azimuth\\\\\":10.0,\\\\\"agl\\\\\":\\\\\"96\\\\\",\\\\\"power\\\\\":80.0,\\\\\"gain\\\\\":15.35,\\\\\"erp\\\\\":2754}\"',\n",
       " '\"{\\\\\"sector\\\\\":\\\\\"A\\\\\",\\\\\"technology\\\\\":\\\\\"\\\\\",\\\\\"freq\\\\\":1900.0,\\\\\"manufacturer\\\\\":\\\\\"Ericsson\\\\\",\\\\\"model\\\\\":\\\\\"AIR32\\\\\",\\\\\"azimuth\\\\\":10.0,\\\\\"agl\\\\\":\\\\\"96\\\\\",\\\\\"power\\\\\":160.0,\\\\\"gain\\\\\":15.35,\\\\\"erp\\\\\":5495}\"',\n",
       " '\"{\\\\\"sector\\\\\":\\\\\"A\\\\\",\\\\\"technology\\\\\":\\\\\"\\\\\",\\\\\"freq\\\\\":700.0,\\\\\"manufacturer\\\\\":\\\\\"RFS\\\\\",\\\\\"model\\\\\":\\\\\"APXVAARR18_43-U-NA20\\\\\",\\\\\"azimuth\\\\\":10.0,\\\\\"agl\\\\\":\\\\\"96\\\\\",\\\\\"power\\\\\":80.0,\\\\\"gain\\\\\":12.65,\\\\\"erp\\\\\":1479}\"',\n",
       " '\"{\\\\\"sector\\\\\":\\\\\"A\\\\\",\\\\\"technology\\\\\":\\\\\"\\\\\",\\\\\"freq\\\\\":600.0,\\\\\"manufacturer\\\\\":\\\\\"RFS\\\\\",\\\\\"model\\\\\":\\\\\"APXVAARR18_43-U-NA20\\\\\",\\\\\"azimuth\\\\\":10.0,\\\\\"agl\\\\\":\\\\\"96\\\\\",\\\\\"power\\\\\":160.0,\\\\\"gain\\\\\":12.25,\\\\\"erp\\\\\":2691}\"',\n",
       " '\"{\\\\\"sector\\\\\":\\\\\"A\\\\\",\\\\\"technology\\\\\":\\\\\"\\\\\",\\\\\"freq\\\\\":1900.0,\\\\\"manufacturer\\\\\":\\\\\"RFS\\\\\",\\\\\"model\\\\\":\\\\\"APXVAARR18_43-U-NA20\\\\\",\\\\\"azimuth\\\\\":10.0,\\\\\"agl\\\\\":\\\\\"96\\\\\",\\\\\"power\\\\\":160.0,\\\\\"gain\\\\\":14.85,\\\\\"erp\\\\\":4897}\"',\n",
       " '\"{\\\\\"sector\\\\\":\\\\\"B\\\\\",\\\\\"technology\\\\\":\\\\\"\\\\\",\\\\\"freq\\\\\":2500.0,\\\\\"manufacturer\\\\\":\\\\\"Ericsson\\\\\",\\\\\"model\\\\\":\\\\\"AIR6449\\\\\",\\\\\"azimuth\\\\\":140.0,\\\\\"agl\\\\\":\\\\\"96\\\\\",\\\\\"power\\\\\":280.0,\\\\\"gain\\\\\":22.65,\\\\\"erp\\\\\":51286}\"',\n",
       " '\"{\\\\\"sector\\\\\":\\\\\"B\\\\\",\\\\\"technology\\\\\":\\\\\"\\\\\",\\\\\"freq\\\\\":1900.0,\\\\\"manufacturer\\\\\":\\\\\"Ericsson\\\\\",\\\\\"model\\\\\":\\\\\"AIR32\\\\\",\\\\\"azimuth\\\\\":140.0,\\\\\"agl\\\\\":\\\\\"96\\\\\",\\\\\"power\\\\\":160.0,\\\\\"gain\\\\\":15.35,\\\\\"erp\\\\\":5495}\"',\n",
       " '\"{\\\\\"sector\\\\\":\\\\\"B\\\\\",\\\\\"technology\\\\\":\\\\\"\\\\\",\\\\\"freq\\\\\":2100.0,\\\\\"manufacturer\\\\\":\\\\\"Ericsson\\\\\",\\\\\"model\\\\\":\\\\\"AIR32\\\\\",\\\\\"azimuth\\\\\":140.0,\\\\\"agl\\\\\":\\\\\"96\\\\\",\\\\\"power\\\\\":80.0,\\\\\"gain\\\\\":15.35,\\\\\"erp\\\\\":2754}\"',\n",
       " '\"{\\\\\"sector\\\\\":\\\\\"B\\\\\",\\\\\"technology\\\\\":\\\\\"\\\\\",\\\\\"freq\\\\\":600.0,\\\\\"manufacturer\\\\\":\\\\\"RFS\\\\\",\\\\\"model\\\\\":\\\\\"APXVAARR18_43-U-NA20\\\\\",\\\\\"azimuth\\\\\":140.0,\\\\\"agl\\\\\":\\\\\"96\\\\\",\\\\\"power\\\\\":160.0,\\\\\"gain\\\\\":12.25,\\\\\"erp\\\\\":2691}\"',\n",
       " '\"{\\\\\"sector\\\\\":\\\\\"B\\\\\",\\\\\"technology\\\\\":\\\\\"\\\\\",\\\\\"freq\\\\\":700.0,\\\\\"manufacturer\\\\\":\\\\\"RFS\\\\\",\\\\\"model\\\\\":\\\\\"APXVAARR18_43-U-NA20\\\\\",\\\\\"azimuth\\\\\":140.0,\\\\\"agl\\\\\":\\\\\"96\\\\\",\\\\\"power\\\\\":80.0,\\\\\"gain\\\\\":12.65,\\\\\"erp\\\\\":1479}\"',\n",
       " '\"{\\\\\"sector\\\\\":\\\\\"B\\\\\",\\\\\"technology\\\\\":\\\\\"\\\\\",\\\\\"freq\\\\\":1900.0,\\\\\"manufacturer\\\\\":\\\\\"RFS\\\\\",\\\\\"model\\\\\":\\\\\"APXVAARR18_43-U-NA20\\\\\",\\\\\"azimuth\\\\\":140.0,\\\\\"agl\\\\\":\\\\\"96\\\\\",\\\\\"power\\\\\":160.0,\\\\\"gain\\\\\":14.85,\\\\\"erp\\\\\":4897}\"',\n",
       " '\"{\\\\\"sector\\\\\":\\\\\"C\\\\\",\\\\\"technology\\\\\":\\\\\"\\\\\",\\\\\"freq\\\\\":2500.0,\\\\\"manufacturer\\\\\":\\\\\"Ericsson\\\\\",\\\\\"model\\\\\":\\\\\"AIR6449\\\\\",\\\\\"azimuth\\\\\":240.0,\\\\\"agl\\\\\":\\\\\"96\\\\\",\\\\\"power\\\\\":280.0,\\\\\"gain\\\\\":22.65,\\\\\"erp\\\\\":51286}\"',\n",
       " '\"{\\\\\"sector\\\\\":\\\\\"C\\\\\",\\\\\"technology\\\\\":\\\\\"\\\\\",\\\\\"freq\\\\\":1900.0,\\\\\"manufacturer\\\\\":\\\\\"Ericsson\\\\\",\\\\\"model\\\\\":\\\\\"AIR32\\\\\",\\\\\"azimuth\\\\\":240.0,\\\\\"agl\\\\\":\\\\\"96\\\\\",\\\\\"power\\\\\":160.0,\\\\\"gain\\\\\":15.35,\\\\\"erp\\\\\":5495}\"',\n",
       " '\"{\\\\\"sector\\\\\":\\\\\"C\\\\\",\\\\\"technology\\\\\":\\\\\"\\\\\",\\\\\"freq\\\\\":2100.0,\\\\\"manufacturer\\\\\":\\\\\"Ericsson\\\\\",\\\\\"model\\\\\":\\\\\"AIR32\\\\\",\\\\\"azimuth\\\\\":240.0,\\\\\"agl\\\\\":\\\\\"96\\\\\",\\\\\"power\\\\\":80.0,\\\\\"gain\\\\\":15.35,\\\\\"erp\\\\\":2754}\"',\n",
       " '\"{\\\\\"sector\\\\\":\\\\\"C\\\\\",\\\\\"technology\\\\\":\\\\\"\\\\\",\\\\\"freq\\\\\":600.0,\\\\\"manufacturer\\\\\":\\\\\"RFS\\\\\",\\\\\"model\\\\\":\\\\\"APXVAARR18_43-U-NA20\\\\\",\\\\\"azimuth\\\\\":240.0,\\\\\"agl\\\\\":\\\\\"96\\\\\",\\\\\"power\\\\\":160.0,\\\\\"gain\\\\\":12.25,\\\\\"erp\\\\\":2691}\"',\n",
       " '\"{\\\\\"sector\\\\\":\\\\\"C\\\\\",\\\\\"technology\\\\\":\\\\\"\\\\\",\\\\\"freq\\\\\":700.0,\\\\\"manufacturer\\\\\":\\\\\"RFS\\\\\",\\\\\"model\\\\\":\\\\\"APXVAARR18_43-U-NA20\\\\\",\\\\\"azimuth\\\\\":240.0,\\\\\"agl\\\\\":\\\\\"96\\\\\",\\\\\"power\\\\\":80.0,\\\\\"gain\\\\\":12.65,\\\\\"erp\\\\\":1479}\"',\n",
       " '\"{\\\\\"sector\\\\\":\\\\\"C\\\\\",\\\\\"technology\\\\\":\\\\\"\\\\\",\\\\\"freq\\\\\":1900.0,\\\\\"manufacturer\\\\\":\\\\\"RFS\\\\\",\\\\\"model\\\\\":\\\\\"APXVAARR18_43-U-NA20\\\\\",\\\\\"azimuth\\\\\":240.0,\\\\\"agl\\\\\":\\\\\"96\\\\\",\\\\\"power\\\\\":160.0,\\\\\"gain\\\\\":14.85,\\\\\"erp\\\\\":4897}\"']"
      ]
     },
     "metadata": {},
     "execution_count": 464
    }
   ],
   "source": [
    "row_contents = []\n",
    "for x in range(len(df)):\n",
    "    print(df.iloc[x].to_json())\n",
    "    row_contents.append(eval(df.iloc[x].to_json()))\n",
    "row_contents"
   ]
  },
  {
   "cell_type": "code",
   "execution_count": 465,
   "metadata": {},
   "outputs": [
    {
     "output_type": "execute_result",
     "data": {
      "text/plain": [
       "{'site_id': 'SF14136A',\n",
       " 'date': '30 Mar',\n",
       " 'due_date': '30 Apr',\n",
       " 'name': 'Jane Doe',\n",
       " 'address': '100 South Mathilda Avenue, Sunnyvale, California 94086',\n",
       " 'subtotal': 335,\n",
       " 'tax_amt': 10,\n",
       " 'total': 345,\n",
       " 'amt_paid': 100,\n",
       " 'amt_due': 245,\n",
       " 'row_contents': ['\"{\\\\\"sector\\\\\":\\\\\"A\\\\\",\\\\\"technology\\\\\":\\\\\"LTE\\\\\",\\\\\"freq\\\\\":2500.0,\\\\\"manufacturer\\\\\":\\\\\"Ericsson\\\\\",\\\\\"model\\\\\":\\\\\"AIR6449\\\\\",\\\\\"azimuth\\\\\":10.0,\\\\\"agl\\\\\":\\\\\"96\\\\\",\\\\\"power\\\\\":280.0,\\\\\"gain\\\\\":22.65,\\\\\"erp\\\\\":51286}\"',\n",
       "  '\"{\\\\\"sector\\\\\":\\\\\"A\\\\\",\\\\\"technology\\\\\":\\\\\"\\\\\",\\\\\"freq\\\\\":2100.0,\\\\\"manufacturer\\\\\":\\\\\"Ericsson\\\\\",\\\\\"model\\\\\":\\\\\"AIR32\\\\\",\\\\\"azimuth\\\\\":10.0,\\\\\"agl\\\\\":\\\\\"96\\\\\",\\\\\"power\\\\\":80.0,\\\\\"gain\\\\\":15.35,\\\\\"erp\\\\\":2754}\"',\n",
       "  '\"{\\\\\"sector\\\\\":\\\\\"A\\\\\",\\\\\"technology\\\\\":\\\\\"\\\\\",\\\\\"freq\\\\\":1900.0,\\\\\"manufacturer\\\\\":\\\\\"Ericsson\\\\\",\\\\\"model\\\\\":\\\\\"AIR32\\\\\",\\\\\"azimuth\\\\\":10.0,\\\\\"agl\\\\\":\\\\\"96\\\\\",\\\\\"power\\\\\":160.0,\\\\\"gain\\\\\":15.35,\\\\\"erp\\\\\":5495}\"',\n",
       "  '\"{\\\\\"sector\\\\\":\\\\\"A\\\\\",\\\\\"technology\\\\\":\\\\\"\\\\\",\\\\\"freq\\\\\":700.0,\\\\\"manufacturer\\\\\":\\\\\"RFS\\\\\",\\\\\"model\\\\\":\\\\\"APXVAARR18_43-U-NA20\\\\\",\\\\\"azimuth\\\\\":10.0,\\\\\"agl\\\\\":\\\\\"96\\\\\",\\\\\"power\\\\\":80.0,\\\\\"gain\\\\\":12.65,\\\\\"erp\\\\\":1479}\"',\n",
       "  '\"{\\\\\"sector\\\\\":\\\\\"A\\\\\",\\\\\"technology\\\\\":\\\\\"\\\\\",\\\\\"freq\\\\\":600.0,\\\\\"manufacturer\\\\\":\\\\\"RFS\\\\\",\\\\\"model\\\\\":\\\\\"APXVAARR18_43-U-NA20\\\\\",\\\\\"azimuth\\\\\":10.0,\\\\\"agl\\\\\":\\\\\"96\\\\\",\\\\\"power\\\\\":160.0,\\\\\"gain\\\\\":12.25,\\\\\"erp\\\\\":2691}\"',\n",
       "  '\"{\\\\\"sector\\\\\":\\\\\"A\\\\\",\\\\\"technology\\\\\":\\\\\"\\\\\",\\\\\"freq\\\\\":1900.0,\\\\\"manufacturer\\\\\":\\\\\"RFS\\\\\",\\\\\"model\\\\\":\\\\\"APXVAARR18_43-U-NA20\\\\\",\\\\\"azimuth\\\\\":10.0,\\\\\"agl\\\\\":\\\\\"96\\\\\",\\\\\"power\\\\\":160.0,\\\\\"gain\\\\\":14.85,\\\\\"erp\\\\\":4897}\"',\n",
       "  '\"{\\\\\"sector\\\\\":\\\\\"B\\\\\",\\\\\"technology\\\\\":\\\\\"\\\\\",\\\\\"freq\\\\\":2500.0,\\\\\"manufacturer\\\\\":\\\\\"Ericsson\\\\\",\\\\\"model\\\\\":\\\\\"AIR6449\\\\\",\\\\\"azimuth\\\\\":140.0,\\\\\"agl\\\\\":\\\\\"96\\\\\",\\\\\"power\\\\\":280.0,\\\\\"gain\\\\\":22.65,\\\\\"erp\\\\\":51286}\"',\n",
       "  '\"{\\\\\"sector\\\\\":\\\\\"B\\\\\",\\\\\"technology\\\\\":\\\\\"\\\\\",\\\\\"freq\\\\\":1900.0,\\\\\"manufacturer\\\\\":\\\\\"Ericsson\\\\\",\\\\\"model\\\\\":\\\\\"AIR32\\\\\",\\\\\"azimuth\\\\\":140.0,\\\\\"agl\\\\\":\\\\\"96\\\\\",\\\\\"power\\\\\":160.0,\\\\\"gain\\\\\":15.35,\\\\\"erp\\\\\":5495}\"',\n",
       "  '\"{\\\\\"sector\\\\\":\\\\\"B\\\\\",\\\\\"technology\\\\\":\\\\\"\\\\\",\\\\\"freq\\\\\":2100.0,\\\\\"manufacturer\\\\\":\\\\\"Ericsson\\\\\",\\\\\"model\\\\\":\\\\\"AIR32\\\\\",\\\\\"azimuth\\\\\":140.0,\\\\\"agl\\\\\":\\\\\"96\\\\\",\\\\\"power\\\\\":80.0,\\\\\"gain\\\\\":15.35,\\\\\"erp\\\\\":2754}\"',\n",
       "  '\"{\\\\\"sector\\\\\":\\\\\"B\\\\\",\\\\\"technology\\\\\":\\\\\"\\\\\",\\\\\"freq\\\\\":600.0,\\\\\"manufacturer\\\\\":\\\\\"RFS\\\\\",\\\\\"model\\\\\":\\\\\"APXVAARR18_43-U-NA20\\\\\",\\\\\"azimuth\\\\\":140.0,\\\\\"agl\\\\\":\\\\\"96\\\\\",\\\\\"power\\\\\":160.0,\\\\\"gain\\\\\":12.25,\\\\\"erp\\\\\":2691}\"',\n",
       "  '\"{\\\\\"sector\\\\\":\\\\\"B\\\\\",\\\\\"technology\\\\\":\\\\\"\\\\\",\\\\\"freq\\\\\":700.0,\\\\\"manufacturer\\\\\":\\\\\"RFS\\\\\",\\\\\"model\\\\\":\\\\\"APXVAARR18_43-U-NA20\\\\\",\\\\\"azimuth\\\\\":140.0,\\\\\"agl\\\\\":\\\\\"96\\\\\",\\\\\"power\\\\\":80.0,\\\\\"gain\\\\\":12.65,\\\\\"erp\\\\\":1479}\"',\n",
       "  '\"{\\\\\"sector\\\\\":\\\\\"B\\\\\",\\\\\"technology\\\\\":\\\\\"\\\\\",\\\\\"freq\\\\\":1900.0,\\\\\"manufacturer\\\\\":\\\\\"RFS\\\\\",\\\\\"model\\\\\":\\\\\"APXVAARR18_43-U-NA20\\\\\",\\\\\"azimuth\\\\\":140.0,\\\\\"agl\\\\\":\\\\\"96\\\\\",\\\\\"power\\\\\":160.0,\\\\\"gain\\\\\":14.85,\\\\\"erp\\\\\":4897}\"',\n",
       "  '\"{\\\\\"sector\\\\\":\\\\\"C\\\\\",\\\\\"technology\\\\\":\\\\\"\\\\\",\\\\\"freq\\\\\":2500.0,\\\\\"manufacturer\\\\\":\\\\\"Ericsson\\\\\",\\\\\"model\\\\\":\\\\\"AIR6449\\\\\",\\\\\"azimuth\\\\\":240.0,\\\\\"agl\\\\\":\\\\\"96\\\\\",\\\\\"power\\\\\":280.0,\\\\\"gain\\\\\":22.65,\\\\\"erp\\\\\":51286}\"',\n",
       "  '\"{\\\\\"sector\\\\\":\\\\\"C\\\\\",\\\\\"technology\\\\\":\\\\\"\\\\\",\\\\\"freq\\\\\":1900.0,\\\\\"manufacturer\\\\\":\\\\\"Ericsson\\\\\",\\\\\"model\\\\\":\\\\\"AIR32\\\\\",\\\\\"azimuth\\\\\":240.0,\\\\\"agl\\\\\":\\\\\"96\\\\\",\\\\\"power\\\\\":160.0,\\\\\"gain\\\\\":15.35,\\\\\"erp\\\\\":5495}\"',\n",
       "  '\"{\\\\\"sector\\\\\":\\\\\"C\\\\\",\\\\\"technology\\\\\":\\\\\"\\\\\",\\\\\"freq\\\\\":2100.0,\\\\\"manufacturer\\\\\":\\\\\"Ericsson\\\\\",\\\\\"model\\\\\":\\\\\"AIR32\\\\\",\\\\\"azimuth\\\\\":240.0,\\\\\"agl\\\\\":\\\\\"96\\\\\",\\\\\"power\\\\\":80.0,\\\\\"gain\\\\\":15.35,\\\\\"erp\\\\\":2754}\"',\n",
       "  '\"{\\\\\"sector\\\\\":\\\\\"C\\\\\",\\\\\"technology\\\\\":\\\\\"\\\\\",\\\\\"freq\\\\\":600.0,\\\\\"manufacturer\\\\\":\\\\\"RFS\\\\\",\\\\\"model\\\\\":\\\\\"APXVAARR18_43-U-NA20\\\\\",\\\\\"azimuth\\\\\":240.0,\\\\\"agl\\\\\":\\\\\"96\\\\\",\\\\\"power\\\\\":160.0,\\\\\"gain\\\\\":12.25,\\\\\"erp\\\\\":2691}\"',\n",
       "  '\"{\\\\\"sector\\\\\":\\\\\"C\\\\\",\\\\\"technology\\\\\":\\\\\"\\\\\",\\\\\"freq\\\\\":700.0,\\\\\"manufacturer\\\\\":\\\\\"RFS\\\\\",\\\\\"model\\\\\":\\\\\"APXVAARR18_43-U-NA20\\\\\",\\\\\"azimuth\\\\\":240.0,\\\\\"agl\\\\\":\\\\\"96\\\\\",\\\\\"power\\\\\":80.0,\\\\\"gain\\\\\":12.65,\\\\\"erp\\\\\":1479}\"',\n",
       "  '\"{\\\\\"sector\\\\\":\\\\\"C\\\\\",\\\\\"technology\\\\\":\\\\\"\\\\\",\\\\\"freq\\\\\":1900.0,\\\\\"manufacturer\\\\\":\\\\\"RFS\\\\\",\\\\\"model\\\\\":\\\\\"APXVAARR18_43-U-NA20\\\\\",\\\\\"azimuth\\\\\":240.0,\\\\\"agl\\\\\":\\\\\"96\\\\\",\\\\\"power\\\\\":160.0,\\\\\"gain\\\\\":14.85,\\\\\"erp\\\\\":4897}\"']}"
      ]
     },
     "metadata": {},
     "execution_count": 465
    }
   ],
   "source": [
    "get_context(row_contents)"
   ]
  },
  {
   "cell_type": "code",
   "execution_count": 466,
   "metadata": {},
   "outputs": [],
   "source": [
    "doc = DocxTemplate('AntennaInventoryTpl.docx')\n",
    "context = get_context(row_contents)\n",
    "doc.render(context)\n",
    "doc.save('test.docx')"
   ]
  }
 ]
}