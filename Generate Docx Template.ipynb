{
 "metadata": {
  "language_info": {
   "codemirror_mode": {
    "name": "ipython",
    "version": 3
   },
   "file_extension": ".py",
   "mimetype": "text/x-python",
   "name": "python",
   "nbconvert_exporter": "python",
   "pygments_lexer": "ipython3",
   "version": "3.8.5-final"
  },
  "orig_nbformat": 2,
  "kernelspec": {
   "name": "python3",
   "display_name": "Python 3",
   "language": "python"
  }
 },
 "nbformat": 4,
 "nbformat_minor": 2,
 "cells": [
  {
   "cell_type": "code",
   "execution_count": 55,
   "metadata": {},
   "outputs": [],
   "source": [
    "from io import StringIO\n",
    "from docx.shared import Cm\n",
    "from docxtpl import DocxTemplate, InlineImage\n"
   ]
  },
  {
   "cell_type": "code",
   "execution_count": 56,
   "metadata": {},
   "outputs": [],
   "source": [
    "def get_context():\n",
    "    \"\"\" You can generate your context separately since you may deal with a lot \n",
    "        of documents. You can carry out computations, etc in here and make the\n",
    "        context look like the sample below.\n",
    "    \"\"\"\n",
    "    return {\n",
    "        'site_id': \"SF14136A\",\n",
    "        'date': '30 Mar',\n",
    "        'due_date': '30 Apr',\n",
    "        'name': 'Jane Doe',\n",
    "        'address': '100 South Mathilda Avenue, Sunnyvale, California 94086',\n",
    "        'subtotal': 335,\n",
    "        'tax_amt': 10,\n",
    "        'total': 345,\n",
    "        'amt_paid': 100,\n",
    "        'amt_due': 245,\n",
    "        'row_contents': [\n",
    "            {\n",
    "                'sector': 'A',\n",
    "                'technology': 'LTE',\n",
    "                'freq': 2100,\n",
    "                'manufacturer': \"Ericsson\",\n",
    "                'model': \"AIR32\",\n",
    "                'azimuth': 0,\n",
    "                'agl': 96,\n",
    "                'power': 40,\n",
    "                'gain': 14.1,\n",
    "                'erp': 2000\n",
    "            }, {\n",
    "                'sector': 'B',\n",
    "                'technology': 'N',\n",
    "                'freq': 2500,\n",
    "                'manufacturer': \"Commscope\",\n",
    "                'model': \"AIR6449\",\n",
    "                'azimuth': 120,\n",
    "                'agl': 96,\n",
    "                'power': 80,\n",
    "                'gain': 14.1,\n",
    "                'erp': 2000\n",
    "            }, {\n",
    "                'sector': 'C',\n",
    "                'technology': 'GSM',\n",
    "                'freq': 1900,\n",
    "                'manufacturer': \"RFS\",\n",
    "                'model': \"AIR21\",\n",
    "                'azimuth': 240,\n",
    "                'agl': 96,\n",
    "                'power': 120,\n",
    "                'gain': 14.1,\n",
    "                'erp': 2000            }\n",
    "        ]\n",
    "    }\n",
    "    #Antenna  ManufacturerAntenna ModelAzimuth (°TN)AGL (FT)Antenna Input Power (W)Antenna Gain (dBd)Power Output (ERP), W"
   ]
  },
  {
   "cell_type": "code",
   "execution_count": 57,
   "metadata": {},
   "outputs": [
    {
     "output_type": "execute_result",
     "data": {
      "text/plain": [
       "{'site_id': 'SF14136A',\n",
       " 'date': '30 Mar',\n",
       " 'due_date': '30 Apr',\n",
       " 'name': 'Jane Doe',\n",
       " 'address': '100 South Mathilda Avenue, Sunnyvale, California 94086',\n",
       " 'subtotal': 335,\n",
       " 'tax_amt': 10,\n",
       " 'total': 345,\n",
       " 'amt_paid': 100,\n",
       " 'amt_due': 245,\n",
       " 'row_contents': [{'sector': 'A',\n",
       "   'technology': 'LTE',\n",
       "   'freq': 2100,\n",
       "   'manufacturer': 'Ericsson',\n",
       "   'model': 'AIR32',\n",
       "   'azimuth': 0,\n",
       "   'agl': 96,\n",
       "   'power': 40},\n",
       "  {'sector': 'B',\n",
       "   'technology': 'N',\n",
       "   'freq': 2500,\n",
       "   'manufacturer': 'Commscope',\n",
       "   'model': 'AIR6449',\n",
       "   'azimuth': 120,\n",
       "   'agl': 96,\n",
       "   'power': 80},\n",
       "  {'sector': 'C',\n",
       "   'technology': 'GSM',\n",
       "   'freq': 1900,\n",
       "   'manufacturer': 'RFS',\n",
       "   'model': 'AIR21',\n",
       "   'azimuth': 240,\n",
       "   'agl': 96,\n",
       "   'power': 120}]}"
      ]
     },
     "metadata": {},
     "execution_count": 57
    }
   ],
   "source": [
    "get_context()"
   ]
  },
  {
   "cell_type": "code",
   "execution_count": 58,
   "metadata": {},
   "outputs": [],
   "source": [
    "doc = DocxTemplate('AntennaInventoryTpl.docx')\n",
    "context = get_context()\n",
    "doc.render(context)\n",
    "doc.save('test.docx')"
   ]
  },
  {
   "cell_type": "code",
   "execution_count": null,
   "metadata": {},
   "outputs": [],
   "source": []
  }
 ]
}