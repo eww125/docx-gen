{
 "cells": [
  {
   "cell_type": "code",
   "execution_count": 147,
   "metadata": {},
   "outputs": [],
   "source": [
    "from docx import Document\n",
    "from docx.shared import Inches, Pt\n",
    "from docx.enum.text import WD_ALIGN_PARAGRAPH\n",
    "document = Document()\n",
    "header = document.sections[0].header\n",
    "htable=header.add_table(1, 2, Inches(6))\n",
    "htab_cells=htable.rows[0].cells\n",
    "ht0=htab_cells[0].add_paragraph()\n",
    "kh=ht0.add_run()\n",
    "kh.add_picture('Home+EV+Logo+For+Website+Final.png', width=Inches(2))\n",
    "ht1=htab_cells[1].add_paragraph(\"\"\"\n",
    "Home EV\n",
    "2840 Howe Road, Suite E\n",
    "Martinez, CA 94553 US\n",
    "(510) 829-2170\n",
    "www.homeev.com\n",
    "\"\"\")\n",
    "ht1.alignment = WD_ALIGN_PARAGRAPH.RIGHT\n",
    "document.save('test.docx')"
   ]
  },
  {
   "cell_type": "code",
   "execution_count": 145,
   "metadata": {},
   "outputs": [],
   "source": []
  },
  {
   "cell_type": "code",
   "execution_count": 117,
   "metadata": {},
   "outputs": [],
   "source": [
    "from docx import Document\n",
    "document = Document()"
   ]
  },
  {
   "cell_type": "code",
   "execution_count": 118,
   "metadata": {},
   "outputs": [],
   "source": [
    "table = document.add_table(rows=1, cols=2)"
   ]
  },
  {
   "cell_type": "code",
   "execution_count": 119,
   "metadata": {},
   "outputs": [],
   "source": [
    "row = table.rows[0]\n",
    "row.cells[0].text = 'logo'\n",
    "row.cells[1].text = 'home ev address'"
   ]
  },
  {
   "cell_type": "code",
   "execution_count": 120,
   "metadata": {},
   "outputs": [],
   "source": [
    "paragraph = document.add_paragraph('Lorem ipsum dolor sit amet.')"
   ]
  },
  {
   "cell_type": "code",
   "execution_count": 121,
   "metadata": {},
   "outputs": [
    {
     "data": {
      "text/plain": [
       "<docx.text.paragraph.Paragraph at 0x124e6e8>"
      ]
     },
     "execution_count": 121,
     "metadata": {},
     "output_type": "execute_result"
    }
   ],
   "source": [
    "document.add_heading('The REAL meaning of the universe')"
   ]
  },
  {
   "cell_type": "code",
   "execution_count": 122,
   "metadata": {},
   "outputs": [
    {
     "data": {
      "text/plain": [
       "<docx.text.paragraph.Paragraph at 0x6545580>"
      ]
     },
     "execution_count": 122,
     "metadata": {},
     "output_type": "execute_result"
    }
   ],
   "source": [
    "document.add_heading('The role of dolphins', level=2)"
   ]
  },
  {
   "cell_type": "code",
   "execution_count": 123,
   "metadata": {},
   "outputs": [
    {
     "data": {
      "text/plain": [
       "<docx.text.paragraph.Paragraph at 0x6545148>"
      ]
     },
     "execution_count": 123,
     "metadata": {},
     "output_type": "execute_result"
    }
   ],
   "source": [
    "document.add_page_break()"
   ]
  },
  {
   "cell_type": "code",
   "execution_count": null,
   "metadata": {},
   "outputs": [],
   "source": []
  },
  {
   "cell_type": "code",
   "execution_count": null,
   "metadata": {},
   "outputs": [],
   "source": []
  },
  {
   "cell_type": "code",
   "execution_count": 124,
   "metadata": {},
   "outputs": [],
   "source": [
    "cell.text = 'parrot, possibly dead'"
   ]
  },
  {
   "cell_type": "code",
   "execution_count": null,
   "metadata": {},
   "outputs": [],
   "source": []
  },
  {
   "cell_type": "code",
   "execution_count": 125,
   "metadata": {},
   "outputs": [
    {
     "name": "stdout",
     "output_type": "stream",
     "text": [
      "logo\n",
      "home ev address\n"
     ]
    }
   ],
   "source": [
    "for row in table.rows:\n",
    "    for cell in row.cells:\n",
    "        print(cell.text)"
   ]
  },
  {
   "cell_type": "code",
   "execution_count": 126,
   "metadata": {},
   "outputs": [],
   "source": [
    "row_count = len(table.rows)\n",
    "col_count = len(table.columns)"
   ]
  },
  {
   "cell_type": "code",
   "execution_count": 127,
   "metadata": {},
   "outputs": [],
   "source": [
    "row = table.add_row()"
   ]
  },
  {
   "cell_type": "code",
   "execution_count": 128,
   "metadata": {},
   "outputs": [],
   "source": [
    "# # get table data -------------\n",
    "# items = (\n",
    "#     (7, '1024', 'Plush kittens'),\n",
    "#     (3, '2042', 'Furbees'),\n",
    "#     (1, '1288', 'French Poodle Collars, Deluxe'),\n",
    "# )\n",
    "\n",
    "# # add table ------------------\n",
    "# table = document.add_table(1, 3)\n",
    "\n",
    "# # populate header row --------\n",
    "# heading_cells = table.rows[0].cells\n",
    "# heading_cells[0].text = 'Qty'\n",
    "# heading_cells[1].text = 'SKU'\n",
    "# heading_cells[2].text = 'Description'\n",
    "\n",
    "# # add a data row for each item\n",
    "# for item in items:\n",
    "#     cells = table.add_row().cells\n",
    "#     cells[0].text = \"test123\" #str(item.qty)\n",
    "#     cells[1].text = item.sku\n",
    "#     cells[2].text = item.desc"
   ]
  },
  {
   "cell_type": "code",
   "execution_count": 129,
   "metadata": {},
   "outputs": [],
   "source": [
    "table.style = 'LightShading-Accent1'"
   ]
  },
  {
   "cell_type": "code",
   "execution_count": 130,
   "metadata": {},
   "outputs": [],
   "source": [
    "#document.add_picture('Home+EV+Logo+For+Website+Final.png')"
   ]
  },
  {
   "cell_type": "code",
   "execution_count": 131,
   "metadata": {},
   "outputs": [
    {
     "data": {
      "text/plain": [
       "<docx.shape.InlineShape at 0x6545598>"
      ]
     },
     "execution_count": 131,
     "metadata": {},
     "output_type": "execute_result"
    }
   ],
   "source": [
    "from docx.shared import Inches\n",
    "\n",
    "document.add_picture('Home+EV+Logo+For+Website+Final.png', width=Inches(1.0))"
   ]
  },
  {
   "cell_type": "code",
   "execution_count": 132,
   "metadata": {},
   "outputs": [
    {
     "data": {
      "text/plain": [
       "<docx.text.paragraph.Paragraph at 0x6545070>"
      ]
     },
     "execution_count": 132,
     "metadata": {},
     "output_type": "execute_result"
    }
   ],
   "source": [
    "document.add_paragraph('Lorem ipsum dolor sit amet.', style='ListBullet')"
   ]
  },
  {
   "cell_type": "code",
   "execution_count": 133,
   "metadata": {},
   "outputs": [],
   "source": [
    "paragraph = document.add_paragraph('Lorem ipsum dolor sit amet.')\n",
    "paragraph.style = 'List Bullet'"
   ]
  },
  {
   "cell_type": "code",
   "execution_count": 134,
   "metadata": {},
   "outputs": [
    {
     "data": {
      "text/plain": [
       "<docx.text.run.Run at 0x1953d78>"
      ]
     },
     "execution_count": 134,
     "metadata": {},
     "output_type": "execute_result"
    }
   ],
   "source": [
    "paragraph = document.add_paragraph('Lorem ipsum ')\n",
    "paragraph.add_run('dolor sit amet.')"
   ]
  },
  {
   "cell_type": "code",
   "execution_count": 135,
   "metadata": {},
   "outputs": [
    {
     "data": {
      "text/plain": [
       "<docx.text.run.Run at 0x1953bc8>"
      ]
     },
     "execution_count": 135,
     "metadata": {},
     "output_type": "execute_result"
    }
   ],
   "source": [
    "paragraph = document.add_paragraph('Lorem ipsum ')\n",
    "run = paragraph.add_run('dolor')\n",
    "run.bold = True\n",
    "paragraph.add_run(' sit amet.')"
   ]
  },
  {
   "cell_type": "code",
   "execution_count": 136,
   "metadata": {},
   "outputs": [],
   "source": [
    "paragraph.add_run('dolor').bold = True\n",
    "\n",
    "# is equivalent to:\n",
    "\n",
    "run = paragraph.add_run('dolor')\n",
    "run.bold = True\n",
    "\n",
    "# except you don't have a reference to `run` afterward"
   ]
  },
  {
   "cell_type": "code",
   "execution_count": 137,
   "metadata": {},
   "outputs": [
    {
     "data": {
      "text/plain": [
       "<docx.text.run.Run at 0x655a838>"
      ]
     },
     "execution_count": 137,
     "metadata": {},
     "output_type": "execute_result"
    }
   ],
   "source": [
    "paragraph = document.add_paragraph()\n",
    "paragraph.add_run('Lorem ipsum ')\n",
    "paragraph.add_run('dolor').bold = True\n",
    "paragraph.add_run(' sit amet.')"
   ]
  },
  {
   "cell_type": "code",
   "execution_count": 138,
   "metadata": {},
   "outputs": [
    {
     "data": {
      "text/plain": [
       "<docx.text.run.Run at 0x655a718>"
      ]
     },
     "execution_count": 138,
     "metadata": {},
     "output_type": "execute_result"
    }
   ],
   "source": [
    "paragraph = document.add_paragraph('Normal text, ')\n",
    "paragraph.add_run('text with emphasis.', 'Emphasis')"
   ]
  },
  {
   "cell_type": "code",
   "execution_count": 139,
   "metadata": {},
   "outputs": [],
   "source": [
    "paragraph = document.add_paragraph('Normal text, ')\n",
    "run = paragraph.add_run('text with emphasis.')\n",
    "run.style = 'Emphasis'"
   ]
  },
  {
   "cell_type": "code",
   "execution_count": 140,
   "metadata": {},
   "outputs": [],
   "source": [
    "document.save('test.docx')"
   ]
  },
  {
   "cell_type": "code",
   "execution_count": null,
   "metadata": {},
   "outputs": [],
   "source": []
  },
  {
   "cell_type": "code",
   "execution_count": null,
   "metadata": {},
   "outputs": [],
   "source": []
  }
 ],
 "metadata": {
  "kernelspec": {
   "display_name": "Python 3",
   "language": "python",
   "name": "python3"
  },
  "language_info": {
   "codemirror_mode": {
    "name": "ipython",
    "version": 3
   },
   "file_extension": ".py",
   "mimetype": "text/x-python",
   "name": "python",
   "nbconvert_exporter": "python",
   "pygments_lexer": "ipython3",
   "version": "3.8.5"
  }
 },
 "nbformat": 4,
 "nbformat_minor": 4
}
